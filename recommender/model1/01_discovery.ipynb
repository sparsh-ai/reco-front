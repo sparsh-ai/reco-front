{
 "cells": [
  {
   "cell_type": "code",
   "execution_count": 1,
   "metadata": {},
   "outputs": [],
   "source": [
    "import numpy as np\n",
    "import pandas as pd\n",
    "from itertools import product\n",
    "from sklearn import preprocessing\n",
    "from itemrep_inference import topk_distance"
   ]
  },
  {
   "cell_type": "code",
   "execution_count": 2,
   "metadata": {},
   "outputs": [],
   "source": [
    "data_path = '../data/logs_test_020521_1.p'"
   ]
  },
  {
   "cell_type": "code",
   "execution_count": 3,
   "metadata": {},
   "outputs": [
    {
     "output_type": "execute_result",
     "data": {
      "text/plain": [
       "           pk              created_at   client_ip  \\\n",
       "0  2021-05-01 2021-05-01 15:59:08.188  172.20.0.1   \n",
       "1  2021-05-01 2021-05-01 15:59:08.256  172.20.0.1   \n",
       "2  2021-05-01 2021-05-01 15:59:08.265  172.20.0.1   \n",
       "3  2021-05-01 2021-05-01 15:59:08.270  172.20.0.1   \n",
       "4  2021-05-01 2021-05-01 15:59:08.280  172.20.0.1   \n",
       "\n",
       "                                     cookie_id event_name item_id  \\\n",
       "0  0:ko0sujvr:WcQ5Z8kIqvWRLp3~Rlpxu_ygeqqQMdkN       view   10009   \n",
       "1  0:ko0sujvr:WcQ5Z8kIqvWRLp3~Rlpxu_ygeqqQMdkN       view   10004   \n",
       "2  0:ko0sujvr:WcQ5Z8kIqvWRLp3~Rlpxu_ygeqqQMdkN       view   10007   \n",
       "3  0:ko0sujvr:WcQ5Z8kIqvWRLp3~Rlpxu_ygeqqQMdkN       view   10002   \n",
       "4  0:ko0sujvr:WcQ5Z8kIqvWRLp3~Rlpxu_ygeqqQMdkN       view   10001   \n",
       "\n",
       "                      url  \n",
       "0  http://127.0.0.1:8051/  \n",
       "1  http://127.0.0.1:8051/  \n",
       "2  http://127.0.0.1:8051/  \n",
       "3  http://127.0.0.1:8051/  \n",
       "4  http://127.0.0.1:8051/  "
      ],
      "text/html": "<div>\n<style scoped>\n    .dataframe tbody tr th:only-of-type {\n        vertical-align: middle;\n    }\n\n    .dataframe tbody tr th {\n        vertical-align: top;\n    }\n\n    .dataframe thead th {\n        text-align: right;\n    }\n</style>\n<table border=\"1\" class=\"dataframe\">\n  <thead>\n    <tr style=\"text-align: right;\">\n      <th></th>\n      <th>pk</th>\n      <th>created_at</th>\n      <th>client_ip</th>\n      <th>cookie_id</th>\n      <th>event_name</th>\n      <th>item_id</th>\n      <th>url</th>\n    </tr>\n  </thead>\n  <tbody>\n    <tr>\n      <th>0</th>\n      <td>2021-05-01</td>\n      <td>2021-05-01 15:59:08.188</td>\n      <td>172.20.0.1</td>\n      <td>0:ko0sujvr:WcQ5Z8kIqvWRLp3~Rlpxu_ygeqqQMdkN</td>\n      <td>view</td>\n      <td>10009</td>\n      <td>http://127.0.0.1:8051/</td>\n    </tr>\n    <tr>\n      <th>1</th>\n      <td>2021-05-01</td>\n      <td>2021-05-01 15:59:08.256</td>\n      <td>172.20.0.1</td>\n      <td>0:ko0sujvr:WcQ5Z8kIqvWRLp3~Rlpxu_ygeqqQMdkN</td>\n      <td>view</td>\n      <td>10004</td>\n      <td>http://127.0.0.1:8051/</td>\n    </tr>\n    <tr>\n      <th>2</th>\n      <td>2021-05-01</td>\n      <td>2021-05-01 15:59:08.265</td>\n      <td>172.20.0.1</td>\n      <td>0:ko0sujvr:WcQ5Z8kIqvWRLp3~Rlpxu_ygeqqQMdkN</td>\n      <td>view</td>\n      <td>10007</td>\n      <td>http://127.0.0.1:8051/</td>\n    </tr>\n    <tr>\n      <th>3</th>\n      <td>2021-05-01</td>\n      <td>2021-05-01 15:59:08.270</td>\n      <td>172.20.0.1</td>\n      <td>0:ko0sujvr:WcQ5Z8kIqvWRLp3~Rlpxu_ygeqqQMdkN</td>\n      <td>view</td>\n      <td>10002</td>\n      <td>http://127.0.0.1:8051/</td>\n    </tr>\n    <tr>\n      <th>4</th>\n      <td>2021-05-01</td>\n      <td>2021-05-01 15:59:08.280</td>\n      <td>172.20.0.1</td>\n      <td>0:ko0sujvr:WcQ5Z8kIqvWRLp3~Rlpxu_ygeqqQMdkN</td>\n      <td>view</td>\n      <td>10001</td>\n      <td>http://127.0.0.1:8051/</td>\n    </tr>\n  </tbody>\n</table>\n</div>"
     },
     "metadata": {},
     "execution_count": 3
    }
   ],
   "source": [
    "data = pd.read_pickle(data_path)\n",
    "data.head()"
   ]
  },
  {
   "cell_type": "code",
   "execution_count": 4,
   "metadata": {},
   "outputs": [
    {
     "output_type": "stream",
     "name": "stdout",
     "text": [
      "<class 'pandas.core.frame.DataFrame'>\nRangeIndex: 265 entries, 0 to 264\nData columns (total 7 columns):\n #   Column      Non-Null Count  Dtype         \n---  ------      --------------  -----         \n 0   pk          265 non-null    object        \n 1   created_at  265 non-null    datetime64[ns]\n 2   client_ip   265 non-null    object        \n 3   cookie_id   265 non-null    object        \n 4   event_name  265 non-null    object        \n 5   item_id     265 non-null    object        \n 6   url         265 non-null    object        \ndtypes: datetime64[ns](1), object(6)\nmemory usage: 14.6+ KB\n"
     ]
    }
   ],
   "source": [
    "data.info()"
   ]
  },
  {
   "cell_type": "code",
   "execution_count": 5,
   "metadata": {},
   "outputs": [
    {
     "output_type": "execute_result",
     "data": {
      "text/plain": [
       "                pk                  created_at   client_ip  \\\n",
       "count          265                         265         265   \n",
       "unique           1                         265           1   \n",
       "top     2021-05-01  2021-05-01 18:43:48.776000  172.20.0.1   \n",
       "freq           265                           1         265   \n",
       "first          NaN  2021-05-01 15:59:08.188000         NaN   \n",
       "last           NaN  2021-05-01 18:44:17.576000         NaN   \n",
       "\n",
       "                                          cookie_id event_name item_id  \\\n",
       "count                                           265        265     265   \n",
       "unique                                            5          4      12   \n",
       "top     0:ko5xo7an:1ORfub~MP9WFwk9lasJHFV70F~lkpcVk       view   10002   \n",
       "freq                                            160        260      38   \n",
       "first                                           NaN        NaN     NaN   \n",
       "last                                            NaN        NaN     NaN   \n",
       "\n",
       "                           url  \n",
       "count                      265  \n",
       "unique                       2  \n",
       "top     http://127.0.0.1:8051/  \n",
       "freq                       264  \n",
       "first                      NaN  \n",
       "last                       NaN  "
      ],
      "text/html": "<div>\n<style scoped>\n    .dataframe tbody tr th:only-of-type {\n        vertical-align: middle;\n    }\n\n    .dataframe tbody tr th {\n        vertical-align: top;\n    }\n\n    .dataframe thead th {\n        text-align: right;\n    }\n</style>\n<table border=\"1\" class=\"dataframe\">\n  <thead>\n    <tr style=\"text-align: right;\">\n      <th></th>\n      <th>pk</th>\n      <th>created_at</th>\n      <th>client_ip</th>\n      <th>cookie_id</th>\n      <th>event_name</th>\n      <th>item_id</th>\n      <th>url</th>\n    </tr>\n  </thead>\n  <tbody>\n    <tr>\n      <th>count</th>\n      <td>265</td>\n      <td>265</td>\n      <td>265</td>\n      <td>265</td>\n      <td>265</td>\n      <td>265</td>\n      <td>265</td>\n    </tr>\n    <tr>\n      <th>unique</th>\n      <td>1</td>\n      <td>265</td>\n      <td>1</td>\n      <td>5</td>\n      <td>4</td>\n      <td>12</td>\n      <td>2</td>\n    </tr>\n    <tr>\n      <th>top</th>\n      <td>2021-05-01</td>\n      <td>2021-05-01 18:43:48.776000</td>\n      <td>172.20.0.1</td>\n      <td>0:ko5xo7an:1ORfub~MP9WFwk9lasJHFV70F~lkpcVk</td>\n      <td>view</td>\n      <td>10002</td>\n      <td>http://127.0.0.1:8051/</td>\n    </tr>\n    <tr>\n      <th>freq</th>\n      <td>265</td>\n      <td>1</td>\n      <td>265</td>\n      <td>160</td>\n      <td>260</td>\n      <td>38</td>\n      <td>264</td>\n    </tr>\n    <tr>\n      <th>first</th>\n      <td>NaN</td>\n      <td>2021-05-01 15:59:08.188000</td>\n      <td>NaN</td>\n      <td>NaN</td>\n      <td>NaN</td>\n      <td>NaN</td>\n      <td>NaN</td>\n    </tr>\n    <tr>\n      <th>last</th>\n      <td>NaN</td>\n      <td>2021-05-01 18:44:17.576000</td>\n      <td>NaN</td>\n      <td>NaN</td>\n      <td>NaN</td>\n      <td>NaN</td>\n      <td>NaN</td>\n    </tr>\n  </tbody>\n</table>\n</div>"
     },
     "metadata": {},
     "execution_count": 5
    }
   ],
   "source": [
    "data.describe(include='all')"
   ]
  },
  {
   "cell_type": "code",
   "execution_count": 6,
   "metadata": {},
   "outputs": [
    {
     "output_type": "display_data",
     "data": {
      "text/plain": "<Figure size 432x288 with 1 Axes>",
      "image/svg+xml": "<?xml version=\"1.0\" encoding=\"utf-8\" standalone=\"no\"?>\n<!DOCTYPE svg PUBLIC \"-//W3C//DTD SVG 1.1//EN\"\n  \"http://www.w3.org/Graphics/SVG/1.1/DTD/svg11.dtd\">\n<!-- Created with matplotlib (https://matplotlib.org/) -->\n<svg height=\"252.018125pt\" version=\"1.1\" viewBox=\"0 0 404.421875 252.018125\" width=\"404.421875pt\" xmlns=\"http://www.w3.org/2000/svg\" xmlns:xlink=\"http://www.w3.org/1999/xlink\">\n <defs>\n  <style type=\"text/css\">\n*{stroke-linecap:butt;stroke-linejoin:round;}\n  </style>\n </defs>\n <g id=\"figure_1\">\n  <g id=\"patch_1\">\n   <path d=\"M 0 252.018125 \nL 404.421875 252.018125 \nL 404.421875 0 \nL 0 0 \nz\n\" style=\"fill:none;\"/>\n  </g>\n  <g id=\"axes_1\">\n   <g id=\"patch_2\">\n    <path d=\"M 58.921875 228.14 \nL 393.721875 228.14 \nL 393.721875 10.7 \nL 58.921875 10.7 \nz\n\" style=\"fill:#ffffff;\"/>\n   </g>\n   <g id=\"matplotlib.axis_1\">\n    <g id=\"xtick_1\">\n     <g id=\"line2d_1\">\n      <defs>\n       <path d=\"M 0 0 \nL 0 3.5 \n\" id=\"mb0b4390e01\" style=\"stroke:#000000;stroke-width:0.8;\"/>\n      </defs>\n      <g>\n       <use style=\"stroke:#000000;stroke-width:0.8;\" x=\"74.140057\" xlink:href=\"#mb0b4390e01\" y=\"228.14\"/>\n      </g>\n     </g>\n     <g id=\"text_1\">\n      <!-- 0 -->\n      <defs>\n       <path d=\"M 31.78125 66.40625 \nQ 24.171875 66.40625 20.328125 58.90625 \nQ 16.5 51.421875 16.5 36.375 \nQ 16.5 21.390625 20.328125 13.890625 \nQ 24.171875 6.390625 31.78125 6.390625 \nQ 39.453125 6.390625 43.28125 13.890625 \nQ 47.125 21.390625 47.125 36.375 \nQ 47.125 51.421875 43.28125 58.90625 \nQ 39.453125 66.40625 31.78125 66.40625 \nz\nM 31.78125 74.21875 \nQ 44.046875 74.21875 50.515625 64.515625 \nQ 56.984375 54.828125 56.984375 36.375 \nQ 56.984375 17.96875 50.515625 8.265625 \nQ 44.046875 -1.421875 31.78125 -1.421875 \nQ 19.53125 -1.421875 13.0625 8.265625 \nQ 6.59375 17.96875 6.59375 36.375 \nQ 6.59375 54.828125 13.0625 64.515625 \nQ 19.53125 74.21875 31.78125 74.21875 \nz\n\" id=\"DejaVuSans-48\"/>\n      </defs>\n      <g transform=\"translate(70.958807 242.738437)scale(0.1 -0.1)\">\n       <use xlink:href=\"#DejaVuSans-48\"/>\n      </g>\n     </g>\n    </g>\n    <g id=\"xtick_2\">\n     <g id=\"line2d_2\">\n      <g>\n       <use style=\"stroke:#000000;stroke-width:0.8;\" x=\"131.784685\" xlink:href=\"#mb0b4390e01\" y=\"228.14\"/>\n      </g>\n     </g>\n     <g id=\"text_2\">\n      <!-- 50 -->\n      <defs>\n       <path d=\"M 10.796875 72.90625 \nL 49.515625 72.90625 \nL 49.515625 64.59375 \nL 19.828125 64.59375 \nL 19.828125 46.734375 \nQ 21.96875 47.46875 24.109375 47.828125 \nQ 26.265625 48.1875 28.421875 48.1875 \nQ 40.625 48.1875 47.75 41.5 \nQ 54.890625 34.8125 54.890625 23.390625 \nQ 54.890625 11.625 47.5625 5.09375 \nQ 40.234375 -1.421875 26.90625 -1.421875 \nQ 22.3125 -1.421875 17.546875 -0.640625 \nQ 12.796875 0.140625 7.71875 1.703125 \nL 7.71875 11.625 \nQ 12.109375 9.234375 16.796875 8.0625 \nQ 21.484375 6.890625 26.703125 6.890625 \nQ 35.15625 6.890625 40.078125 11.328125 \nQ 45.015625 15.765625 45.015625 23.390625 \nQ 45.015625 31 40.078125 35.4375 \nQ 35.15625 39.890625 26.703125 39.890625 \nQ 22.75 39.890625 18.8125 39.015625 \nQ 14.890625 38.140625 10.796875 36.28125 \nz\n\" id=\"DejaVuSans-53\"/>\n      </defs>\n      <g transform=\"translate(125.422185 242.738437)scale(0.1 -0.1)\">\n       <use xlink:href=\"#DejaVuSans-53\"/>\n       <use x=\"63.623047\" xlink:href=\"#DejaVuSans-48\"/>\n      </g>\n     </g>\n    </g>\n    <g id=\"xtick_3\">\n     <g id=\"line2d_3\">\n      <g>\n       <use style=\"stroke:#000000;stroke-width:0.8;\" x=\"189.429313\" xlink:href=\"#mb0b4390e01\" y=\"228.14\"/>\n      </g>\n     </g>\n     <g id=\"text_3\">\n      <!-- 100 -->\n      <defs>\n       <path d=\"M 12.40625 8.296875 \nL 28.515625 8.296875 \nL 28.515625 63.921875 \nL 10.984375 60.40625 \nL 10.984375 69.390625 \nL 28.421875 72.90625 \nL 38.28125 72.90625 \nL 38.28125 8.296875 \nL 54.390625 8.296875 \nL 54.390625 0 \nL 12.40625 0 \nz\n\" id=\"DejaVuSans-49\"/>\n      </defs>\n      <g transform=\"translate(179.885563 242.738437)scale(0.1 -0.1)\">\n       <use xlink:href=\"#DejaVuSans-49\"/>\n       <use x=\"63.623047\" xlink:href=\"#DejaVuSans-48\"/>\n       <use x=\"127.246094\" xlink:href=\"#DejaVuSans-48\"/>\n      </g>\n     </g>\n    </g>\n    <g id=\"xtick_4\">\n     <g id=\"line2d_4\">\n      <g>\n       <use style=\"stroke:#000000;stroke-width:0.8;\" x=\"247.073941\" xlink:href=\"#mb0b4390e01\" y=\"228.14\"/>\n      </g>\n     </g>\n     <g id=\"text_4\">\n      <!-- 150 -->\n      <g transform=\"translate(237.530191 242.738437)scale(0.1 -0.1)\">\n       <use xlink:href=\"#DejaVuSans-49\"/>\n       <use x=\"63.623047\" xlink:href=\"#DejaVuSans-53\"/>\n       <use x=\"127.246094\" xlink:href=\"#DejaVuSans-48\"/>\n      </g>\n     </g>\n    </g>\n    <g id=\"xtick_5\">\n     <g id=\"line2d_5\">\n      <g>\n       <use style=\"stroke:#000000;stroke-width:0.8;\" x=\"304.718569\" xlink:href=\"#mb0b4390e01\" y=\"228.14\"/>\n      </g>\n     </g>\n     <g id=\"text_5\">\n      <!-- 200 -->\n      <defs>\n       <path d=\"M 19.1875 8.296875 \nL 53.609375 8.296875 \nL 53.609375 0 \nL 7.328125 0 \nL 7.328125 8.296875 \nQ 12.9375 14.109375 22.625 23.890625 \nQ 32.328125 33.6875 34.8125 36.53125 \nQ 39.546875 41.84375 41.421875 45.53125 \nQ 43.3125 49.21875 43.3125 52.78125 \nQ 43.3125 58.59375 39.234375 62.25 \nQ 35.15625 65.921875 28.609375 65.921875 \nQ 23.96875 65.921875 18.8125 64.3125 \nQ 13.671875 62.703125 7.8125 59.421875 \nL 7.8125 69.390625 \nQ 13.765625 71.78125 18.9375 73 \nQ 24.125 74.21875 28.421875 74.21875 \nQ 39.75 74.21875 46.484375 68.546875 \nQ 53.21875 62.890625 53.21875 53.421875 \nQ 53.21875 48.921875 51.53125 44.890625 \nQ 49.859375 40.875 45.40625 35.40625 \nQ 44.1875 33.984375 37.640625 27.21875 \nQ 31.109375 20.453125 19.1875 8.296875 \nz\n\" id=\"DejaVuSans-50\"/>\n      </defs>\n      <g transform=\"translate(295.174819 242.738437)scale(0.1 -0.1)\">\n       <use xlink:href=\"#DejaVuSans-50\"/>\n       <use x=\"63.623047\" xlink:href=\"#DejaVuSans-48\"/>\n       <use x=\"127.246094\" xlink:href=\"#DejaVuSans-48\"/>\n      </g>\n     </g>\n    </g>\n    <g id=\"xtick_6\">\n     <g id=\"line2d_6\">\n      <g>\n       <use style=\"stroke:#000000;stroke-width:0.8;\" x=\"362.363197\" xlink:href=\"#mb0b4390e01\" y=\"228.14\"/>\n      </g>\n     </g>\n     <g id=\"text_6\">\n      <!-- 250 -->\n      <g transform=\"translate(352.819447 242.738437)scale(0.1 -0.1)\">\n       <use xlink:href=\"#DejaVuSans-50\"/>\n       <use x=\"63.623047\" xlink:href=\"#DejaVuSans-53\"/>\n       <use x=\"127.246094\" xlink:href=\"#DejaVuSans-48\"/>\n      </g>\n     </g>\n    </g>\n   </g>\n   <g id=\"matplotlib.axis_2\">\n    <g id=\"ytick_1\">\n     <g id=\"line2d_7\">\n      <defs>\n       <path d=\"M 0 0 \nL -3.5 0 \n\" id=\"m388465c91e\" style=\"stroke:#000000;stroke-width:0.8;\"/>\n      </defs>\n      <g>\n       <use style=\"stroke:#000000;stroke-width:0.8;\" x=\"58.921875\" xlink:href=\"#m388465c91e\" y=\"217.222817\"/>\n      </g>\n     </g>\n     <g id=\"text_7\">\n      <!-- 01 16:00 -->\n      <defs>\n       <path id=\"DejaVuSans-32\"/>\n       <path d=\"M 33.015625 40.375 \nQ 26.375 40.375 22.484375 35.828125 \nQ 18.609375 31.296875 18.609375 23.390625 \nQ 18.609375 15.53125 22.484375 10.953125 \nQ 26.375 6.390625 33.015625 6.390625 \nQ 39.65625 6.390625 43.53125 10.953125 \nQ 47.40625 15.53125 47.40625 23.390625 \nQ 47.40625 31.296875 43.53125 35.828125 \nQ 39.65625 40.375 33.015625 40.375 \nz\nM 52.59375 71.296875 \nL 52.59375 62.3125 \nQ 48.875 64.0625 45.09375 64.984375 \nQ 41.3125 65.921875 37.59375 65.921875 \nQ 27.828125 65.921875 22.671875 59.328125 \nQ 17.53125 52.734375 16.796875 39.40625 \nQ 19.671875 43.65625 24.015625 45.921875 \nQ 28.375 48.1875 33.59375 48.1875 \nQ 44.578125 48.1875 50.953125 41.515625 \nQ 57.328125 34.859375 57.328125 23.390625 \nQ 57.328125 12.15625 50.6875 5.359375 \nQ 44.046875 -1.421875 33.015625 -1.421875 \nQ 20.359375 -1.421875 13.671875 8.265625 \nQ 6.984375 17.96875 6.984375 36.375 \nQ 6.984375 53.65625 15.1875 63.9375 \nQ 23.390625 74.21875 37.203125 74.21875 \nQ 40.921875 74.21875 44.703125 73.484375 \nQ 48.484375 72.75 52.59375 71.296875 \nz\n\" id=\"DejaVuSans-54\"/>\n       <path d=\"M 11.71875 12.40625 \nL 22.015625 12.40625 \nL 22.015625 0 \nL 11.71875 0 \nz\nM 11.71875 51.703125 \nL 22.015625 51.703125 \nL 22.015625 39.3125 \nL 11.71875 39.3125 \nz\n\" id=\"DejaVuSans-58\"/>\n      </defs>\n      <g transform=\"translate(7.2 221.022035)scale(0.1 -0.1)\">\n       <use xlink:href=\"#DejaVuSans-48\"/>\n       <use x=\"63.623047\" xlink:href=\"#DejaVuSans-49\"/>\n       <use x=\"127.246094\" xlink:href=\"#DejaVuSans-32\"/>\n       <use x=\"159.033203\" xlink:href=\"#DejaVuSans-49\"/>\n       <use x=\"222.65625\" xlink:href=\"#DejaVuSans-54\"/>\n       <use x=\"286.279297\" xlink:href=\"#DejaVuSans-58\"/>\n       <use x=\"319.970703\" xlink:href=\"#DejaVuSans-48\"/>\n       <use x=\"383.59375\" xlink:href=\"#DejaVuSans-48\"/>\n      </g>\n     </g>\n    </g>\n    <g id=\"ytick_2\">\n     <g id=\"line2d_8\">\n      <g>\n       <use style=\"stroke:#000000;stroke-width:0.8;\" x=\"58.921875\" xlink:href=\"#m388465c91e\" y=\"181.31637\"/>\n      </g>\n     </g>\n     <g id=\"text_8\">\n      <!-- 01 16:30 -->\n      <defs>\n       <path d=\"M 40.578125 39.3125 \nQ 47.65625 37.796875 51.625 33 \nQ 55.609375 28.21875 55.609375 21.1875 \nQ 55.609375 10.40625 48.1875 4.484375 \nQ 40.765625 -1.421875 27.09375 -1.421875 \nQ 22.515625 -1.421875 17.65625 -0.515625 \nQ 12.796875 0.390625 7.625 2.203125 \nL 7.625 11.71875 \nQ 11.71875 9.328125 16.59375 8.109375 \nQ 21.484375 6.890625 26.8125 6.890625 \nQ 36.078125 6.890625 40.9375 10.546875 \nQ 45.796875 14.203125 45.796875 21.1875 \nQ 45.796875 27.640625 41.28125 31.265625 \nQ 36.765625 34.90625 28.71875 34.90625 \nL 20.21875 34.90625 \nL 20.21875 43.015625 \nL 29.109375 43.015625 \nQ 36.375 43.015625 40.234375 45.921875 \nQ 44.09375 48.828125 44.09375 54.296875 \nQ 44.09375 59.90625 40.109375 62.90625 \nQ 36.140625 65.921875 28.71875 65.921875 \nQ 24.65625 65.921875 20.015625 65.03125 \nQ 15.375 64.15625 9.8125 62.3125 \nL 9.8125 71.09375 \nQ 15.4375 72.65625 20.34375 73.4375 \nQ 25.25 74.21875 29.59375 74.21875 \nQ 40.828125 74.21875 47.359375 69.109375 \nQ 53.90625 64.015625 53.90625 55.328125 \nQ 53.90625 49.265625 50.4375 45.09375 \nQ 46.96875 40.921875 40.578125 39.3125 \nz\n\" id=\"DejaVuSans-51\"/>\n      </defs>\n      <g transform=\"translate(7.2 185.115589)scale(0.1 -0.1)\">\n       <use xlink:href=\"#DejaVuSans-48\"/>\n       <use x=\"63.623047\" xlink:href=\"#DejaVuSans-49\"/>\n       <use x=\"127.246094\" xlink:href=\"#DejaVuSans-32\"/>\n       <use x=\"159.033203\" xlink:href=\"#DejaVuSans-49\"/>\n       <use x=\"222.65625\" xlink:href=\"#DejaVuSans-54\"/>\n       <use x=\"286.279297\" xlink:href=\"#DejaVuSans-58\"/>\n       <use x=\"319.970703\" xlink:href=\"#DejaVuSans-51\"/>\n       <use x=\"383.59375\" xlink:href=\"#DejaVuSans-48\"/>\n      </g>\n     </g>\n    </g>\n    <g id=\"ytick_3\">\n     <g id=\"line2d_9\">\n      <g>\n       <use style=\"stroke:#000000;stroke-width:0.8;\" x=\"58.921875\" xlink:href=\"#m388465c91e\" y=\"145.409924\"/>\n      </g>\n     </g>\n     <g id=\"text_9\">\n      <!-- 01 17:00 -->\n      <defs>\n       <path d=\"M 8.203125 72.90625 \nL 55.078125 72.90625 \nL 55.078125 68.703125 \nL 28.609375 0 \nL 18.3125 0 \nL 43.21875 64.59375 \nL 8.203125 64.59375 \nz\n\" id=\"DejaVuSans-55\"/>\n      </defs>\n      <g transform=\"translate(7.2 149.209142)scale(0.1 -0.1)\">\n       <use xlink:href=\"#DejaVuSans-48\"/>\n       <use x=\"63.623047\" xlink:href=\"#DejaVuSans-49\"/>\n       <use x=\"127.246094\" xlink:href=\"#DejaVuSans-32\"/>\n       <use x=\"159.033203\" xlink:href=\"#DejaVuSans-49\"/>\n       <use x=\"222.65625\" xlink:href=\"#DejaVuSans-55\"/>\n       <use x=\"286.279297\" xlink:href=\"#DejaVuSans-58\"/>\n       <use x=\"319.970703\" xlink:href=\"#DejaVuSans-48\"/>\n       <use x=\"383.59375\" xlink:href=\"#DejaVuSans-48\"/>\n      </g>\n     </g>\n    </g>\n    <g id=\"ytick_4\">\n     <g id=\"line2d_10\">\n      <g>\n       <use style=\"stroke:#000000;stroke-width:0.8;\" x=\"58.921875\" xlink:href=\"#m388465c91e\" y=\"109.503478\"/>\n      </g>\n     </g>\n     <g id=\"text_10\">\n      <!-- 01 17:30 -->\n      <g transform=\"translate(7.2 113.302696)scale(0.1 -0.1)\">\n       <use xlink:href=\"#DejaVuSans-48\"/>\n       <use x=\"63.623047\" xlink:href=\"#DejaVuSans-49\"/>\n       <use x=\"127.246094\" xlink:href=\"#DejaVuSans-32\"/>\n       <use x=\"159.033203\" xlink:href=\"#DejaVuSans-49\"/>\n       <use x=\"222.65625\" xlink:href=\"#DejaVuSans-55\"/>\n       <use x=\"286.279297\" xlink:href=\"#DejaVuSans-58\"/>\n       <use x=\"319.970703\" xlink:href=\"#DejaVuSans-51\"/>\n       <use x=\"383.59375\" xlink:href=\"#DejaVuSans-48\"/>\n      </g>\n     </g>\n    </g>\n    <g id=\"ytick_5\">\n     <g id=\"line2d_11\">\n      <g>\n       <use style=\"stroke:#000000;stroke-width:0.8;\" x=\"58.921875\" xlink:href=\"#m388465c91e\" y=\"73.597031\"/>\n      </g>\n     </g>\n     <g id=\"text_11\">\n      <!-- 01 18:00 -->\n      <defs>\n       <path d=\"M 31.78125 34.625 \nQ 24.75 34.625 20.71875 30.859375 \nQ 16.703125 27.09375 16.703125 20.515625 \nQ 16.703125 13.921875 20.71875 10.15625 \nQ 24.75 6.390625 31.78125 6.390625 \nQ 38.8125 6.390625 42.859375 10.171875 \nQ 46.921875 13.96875 46.921875 20.515625 \nQ 46.921875 27.09375 42.890625 30.859375 \nQ 38.875 34.625 31.78125 34.625 \nz\nM 21.921875 38.8125 \nQ 15.578125 40.375 12.03125 44.71875 \nQ 8.5 49.078125 8.5 55.328125 \nQ 8.5 64.0625 14.71875 69.140625 \nQ 20.953125 74.21875 31.78125 74.21875 \nQ 42.671875 74.21875 48.875 69.140625 \nQ 55.078125 64.0625 55.078125 55.328125 \nQ 55.078125 49.078125 51.53125 44.71875 \nQ 48 40.375 41.703125 38.8125 \nQ 48.828125 37.15625 52.796875 32.3125 \nQ 56.78125 27.484375 56.78125 20.515625 \nQ 56.78125 9.90625 50.3125 4.234375 \nQ 43.84375 -1.421875 31.78125 -1.421875 \nQ 19.734375 -1.421875 13.25 4.234375 \nQ 6.78125 9.90625 6.78125 20.515625 \nQ 6.78125 27.484375 10.78125 32.3125 \nQ 14.796875 37.15625 21.921875 38.8125 \nz\nM 18.3125 54.390625 \nQ 18.3125 48.734375 21.84375 45.5625 \nQ 25.390625 42.390625 31.78125 42.390625 \nQ 38.140625 42.390625 41.71875 45.5625 \nQ 45.3125 48.734375 45.3125 54.390625 \nQ 45.3125 60.0625 41.71875 63.234375 \nQ 38.140625 66.40625 31.78125 66.40625 \nQ 25.390625 66.40625 21.84375 63.234375 \nQ 18.3125 60.0625 18.3125 54.390625 \nz\n\" id=\"DejaVuSans-56\"/>\n      </defs>\n      <g transform=\"translate(7.2 77.39625)scale(0.1 -0.1)\">\n       <use xlink:href=\"#DejaVuSans-48\"/>\n       <use x=\"63.623047\" xlink:href=\"#DejaVuSans-49\"/>\n       <use x=\"127.246094\" xlink:href=\"#DejaVuSans-32\"/>\n       <use x=\"159.033203\" xlink:href=\"#DejaVuSans-49\"/>\n       <use x=\"222.65625\" xlink:href=\"#DejaVuSans-56\"/>\n       <use x=\"286.279297\" xlink:href=\"#DejaVuSans-58\"/>\n       <use x=\"319.970703\" xlink:href=\"#DejaVuSans-48\"/>\n       <use x=\"383.59375\" xlink:href=\"#DejaVuSans-48\"/>\n      </g>\n     </g>\n    </g>\n    <g id=\"ytick_6\">\n     <g id=\"line2d_12\">\n      <g>\n       <use style=\"stroke:#000000;stroke-width:0.8;\" x=\"58.921875\" xlink:href=\"#m388465c91e\" y=\"37.690585\"/>\n      </g>\n     </g>\n     <g id=\"text_12\">\n      <!-- 01 18:30 -->\n      <g transform=\"translate(7.2 41.489803)scale(0.1 -0.1)\">\n       <use xlink:href=\"#DejaVuSans-48\"/>\n       <use x=\"63.623047\" xlink:href=\"#DejaVuSans-49\"/>\n       <use x=\"127.246094\" xlink:href=\"#DejaVuSans-32\"/>\n       <use x=\"159.033203\" xlink:href=\"#DejaVuSans-49\"/>\n       <use x=\"222.65625\" xlink:href=\"#DejaVuSans-56\"/>\n       <use x=\"286.279297\" xlink:href=\"#DejaVuSans-58\"/>\n       <use x=\"319.970703\" xlink:href=\"#DejaVuSans-51\"/>\n       <use x=\"383.59375\" xlink:href=\"#DejaVuSans-48\"/>\n      </g>\n     </g>\n    </g>\n   </g>\n   <g id=\"line2d_13\">\n    <path clip-path=\"url(#p021f5e67bb)\" d=\"M 74.140057 218.256364 \nL 86.821875 218.253432 \nL 87.974768 217.968354 \nL 123.714437 217.915671 \nL 124.86733 216.653839 \nL 137.549148 216.646159 \nL 138.70204 215.869463 \nL 155.995429 215.858332 \nL 157.148321 214.302486 \nL 174.44171 214.292272 \nL 175.594602 63.745878 \nL 192.887991 63.733949 \nL 194.040883 63.278017 \nL 215.945842 63.270756 \nL 217.098735 62.703953 \nL 234.392123 62.695794 \nL 235.545015 60.903404 \nL 252.838404 60.890757 \nL 253.991296 59.912825 \nL 271.284685 59.900098 \nL 272.437577 54.273418 \nL 294.342536 54.263524 \nL 295.495429 31.907313 \nL 296.648321 28.743715 \nL 309.330139 28.732086 \nL 310.483032 28.475574 \nL 332.387991 28.464543 \nL 333.540883 26.631738 \nL 334.693776 25.307668 \nL 335.846668 24.538213 \nL 336.999561 21.162748 \nL 354.292949 21.151018 \nL 355.445842 20.686508 \nL 378.503693 20.583637 \nL 378.503693 20.583637 \n\" style=\"fill:none;stroke:#1f77b4;stroke-linecap:square;stroke-width:1.5;\"/>\n   </g>\n   <g id=\"patch_3\">\n    <path d=\"M 58.921875 228.14 \nL 58.921875 10.7 \n\" style=\"fill:none;stroke:#000000;stroke-linecap:square;stroke-linejoin:miter;stroke-width:0.8;\"/>\n   </g>\n   <g id=\"patch_4\">\n    <path d=\"M 393.721875 228.14 \nL 393.721875 10.7 \n\" style=\"fill:none;stroke:#000000;stroke-linecap:square;stroke-linejoin:miter;stroke-width:0.8;\"/>\n   </g>\n   <g id=\"patch_5\">\n    <path d=\"M 58.921875 228.14 \nL 393.721875 228.14 \n\" style=\"fill:none;stroke:#000000;stroke-linecap:square;stroke-linejoin:miter;stroke-width:0.8;\"/>\n   </g>\n   <g id=\"patch_6\">\n    <path d=\"M 58.921875 10.7 \nL 393.721875 10.7 \n\" style=\"fill:none;stroke:#000000;stroke-linecap:square;stroke-linejoin:miter;stroke-width:0.8;\"/>\n   </g>\n  </g>\n </g>\n <defs>\n  <clipPath id=\"p021f5e67bb\">\n   <rect height=\"217.44\" width=\"334.8\" x=\"58.921875\" y=\"10.7\"/>\n  </clipPath>\n </defs>\n</svg>\n",
      "image/png": "[encoded data removed]"
     },
     "metadata": {
      "needs_background": "light"
     }
    }
   ],
   "source": [
    "data.created_at = pd.to_datetime(data.created_at)\n",
    "data.created_at.plot();"
   ]
  },
  {
   "cell_type": "markdown",
   "metadata": {},
   "source": [
    "### Observations -> Actions\n",
    "- zero variance in pk -> drop this variable\n",
    "- during data collection, event was simulated on multiple timepoints, therefore this kind of step lines in time plot. We will focus on only last simulation -> select records happended after 13:30 on 30-apr-21\n",
    "- client_id and cookie_id, both can be treated as user_identifier. Let's go with cookie_id -> drop client_ip\n",
    "- map cookie_id to dash_basic_auth login profiles. this action is specific to this POC's MVP (minimum viable product) requirements\n",
    "- remove view events - focus is only on click events\n",
    "- drop url\n",
    "- drop duplicates"
   ]
  },
  {
   "cell_type": "code",
   "execution_count": 11,
   "metadata": {},
   "outputs": [],
   "source": [
    "def label_encoding(df, colname):\n",
    "    le = preprocessing.LabelEncoder()\n",
    "    le.fit(df[colname])\n",
    "    le_mappings = dict(zip(le.classes_, le.transform(le.classes_)))\n",
    "    return le_mappings"
   ]
  },
  {
   "cell_type": "code",
   "execution_count": 12,
   "metadata": {},
   "outputs": [],
   "source": [
    "def preprocess(df):\n",
    "    df = df.drop_duplicates()\n",
    "    df = df[df.created_at > '2021-04-30 13:30:00']\n",
    "    umap = {x:'user'+str(i) for i,x in enumerate(data.cookie_id.unique())}\n",
    "    df = df.replace({\"cookie_id\": umap})\n",
    "    user_mapping = label_encoding(df, 'cookie_id')\n",
    "    item_mapping = label_encoding(df, 'item_id')\n",
    "    df = df[df.event_name=='click']\n",
    "    df.reset_index(drop=True, inplace=True)\n",
    "    df = df[['cookie_id','item_id','created_at']]\n",
    "    df.columns = ['userid','itemid','timestamp']\n",
    "    return df, [user_mapping,item_mapping]"
   ]
  },
  {
   "cell_type": "code",
   "execution_count": 13,
   "metadata": {},
   "outputs": [
    {
     "data": {
      "text/html": [
       "<div>\n",
       "<style scoped>\n",
       "    .dataframe tbody tr th:only-of-type {\n",
       "        vertical-align: middle;\n",
       "    }\n",
       "\n",
       "    .dataframe tbody tr th {\n",
       "        vertical-align: top;\n",
       "    }\n",
       "\n",
       "    .dataframe thead th {\n",
       "        text-align: right;\n",
       "    }\n",
       "</style>\n",
       "<table border=\"1\" class=\"dataframe\">\n",
       "  <thead>\n",
       "    <tr style=\"text-align: right;\">\n",
       "      <th></th>\n",
       "      <th>userid</th>\n",
       "      <th>itemid</th>\n",
       "      <th>timestamp</th>\n",
       "    </tr>\n",
       "  </thead>\n",
       "  <tbody>\n",
       "    <tr>\n",
       "      <th>0</th>\n",
       "      <td>user0</td>\n",
       "      <td>10005</td>\n",
       "      <td>2021-04-30 13:56:09.278</td>\n",
       "    </tr>\n",
       "    <tr>\n",
       "      <th>1</th>\n",
       "      <td>user0</td>\n",
       "      <td>10006</td>\n",
       "      <td>2021-04-30 13:56:10.916</td>\n",
       "    </tr>\n",
       "    <tr>\n",
       "      <th>2</th>\n",
       "      <td>user0</td>\n",
       "      <td>10005</td>\n",
       "      <td>2021-04-30 13:56:12.862</td>\n",
       "    </tr>\n",
       "    <tr>\n",
       "      <th>3</th>\n",
       "      <td>user0</td>\n",
       "      <td>10006</td>\n",
       "      <td>2021-04-30 13:56:13.956</td>\n",
       "    </tr>\n",
       "    <tr>\n",
       "      <th>4</th>\n",
       "      <td>user0</td>\n",
       "      <td>10006</td>\n",
       "      <td>2021-04-30 13:56:16.678</td>\n",
       "    </tr>\n",
       "  </tbody>\n",
       "</table>\n",
       "</div>"
      ],
      "text/plain": [
       "  userid  itemid               timestamp\n",
       "0  user0   10005 2021-04-30 13:56:09.278\n",
       "1  user0   10006 2021-04-30 13:56:10.916\n",
       "2  user0   10005 2021-04-30 13:56:12.862\n",
       "3  user0   10006 2021-04-30 13:56:13.956\n",
       "4  user0   10006 2021-04-30 13:56:16.678"
      ]
     },
     "execution_count": 13,
     "metadata": {},
     "output_type": "execute_result"
    }
   ],
   "source": [
    "dataw, maps = preprocess(data)\n",
    "dataw.head()"
   ]
  },
  {
   "cell_type": "code",
   "execution_count": 14,
   "metadata": {},
   "outputs": [
    {
     "name": "stdout",
     "output_type": "stream",
     "text": [
      "User Mappings: {'user0': 0, 'user1': 1}\n",
      "Item Mappings: {10000: 0, 10001: 1, 10002: 2, 10003: 3, 10004: 4, 10005: 5, 10006: 6, 10007: 7, 10008: 8, 10009: 9}\n"
     ]
    }
   ],
   "source": [
    "print('User Mappings: {}'.format(maps[0]))\n",
    "print('Item Mappings: {}'.format(maps[1]))"
   ]
  },
  {
   "cell_type": "code",
   "execution_count": 26,
   "metadata": {},
   "outputs": [
    {
     "name": "stdout",
     "output_type": "stream",
     "text": [
      "Inverse User Mappings: {0: 'user0', 1: 'user1'}\n",
      "Inverse Item Mappings: {0: 10000, 1: 10001, 2: 10002, 3: 10003, 4: 10004, 5: 10005, 6: 10006, 7: 10007, 8: 10008, 9: 10009}\n"
     ]
    }
   ],
   "source": [
    "umap_inverse = {v: k for k, v in maps[0].items()}\n",
    "imap_inverse = {v: k for k, v in maps[1].items()}\n",
    "\n",
    "print('Inverse User Mappings: {}'.format(umap_inverse))\n",
    "print('Inverse Item Mappings: {}'.format(imap_inverse))"
   ]
  },
  {
   "cell_type": "code",
   "execution_count": 15,
   "metadata": {},
   "outputs": [
    {
     "data": {
      "text/html": [
       "<div>\n",
       "<style scoped>\n",
       "    .dataframe tbody tr th:only-of-type {\n",
       "        vertical-align: middle;\n",
       "    }\n",
       "\n",
       "    .dataframe tbody tr th {\n",
       "        vertical-align: top;\n",
       "    }\n",
       "\n",
       "    .dataframe thead th {\n",
       "        text-align: right;\n",
       "    }\n",
       "</style>\n",
       "<table border=\"1\" class=\"dataframe\">\n",
       "  <thead>\n",
       "    <tr style=\"text-align: right;\">\n",
       "      <th></th>\n",
       "      <th>userid</th>\n",
       "      <th>itemid</th>\n",
       "      <th>timestamp</th>\n",
       "    </tr>\n",
       "  </thead>\n",
       "  <tbody>\n",
       "    <tr>\n",
       "      <th>0</th>\n",
       "      <td>0</td>\n",
       "      <td>5</td>\n",
       "      <td>2021-04-30 13:56:09.278</td>\n",
       "    </tr>\n",
       "    <tr>\n",
       "      <th>1</th>\n",
       "      <td>0</td>\n",
       "      <td>6</td>\n",
       "      <td>2021-04-30 13:56:10.916</td>\n",
       "    </tr>\n",
       "    <tr>\n",
       "      <th>2</th>\n",
       "      <td>0</td>\n",
       "      <td>5</td>\n",
       "      <td>2021-04-30 13:56:12.862</td>\n",
       "    </tr>\n",
       "    <tr>\n",
       "      <th>3</th>\n",
       "      <td>0</td>\n",
       "      <td>6</td>\n",
       "      <td>2021-04-30 13:56:13.956</td>\n",
       "    </tr>\n",
       "    <tr>\n",
       "      <th>4</th>\n",
       "      <td>0</td>\n",
       "      <td>6</td>\n",
       "      <td>2021-04-30 13:56:16.678</td>\n",
       "    </tr>\n",
       "  </tbody>\n",
       "</table>\n",
       "</div>"
      ],
      "text/plain": [
       "   userid  itemid               timestamp\n",
       "0       0       5 2021-04-30 13:56:09.278\n",
       "1       0       6 2021-04-30 13:56:10.916\n",
       "2       0       5 2021-04-30 13:56:12.862\n",
       "3       0       6 2021-04-30 13:56:13.956\n",
       "4       0       6 2021-04-30 13:56:16.678"
      ]
     },
     "execution_count": 15,
     "metadata": {},
     "output_type": "execute_result"
    }
   ],
   "source": [
    "dataw = dataw.replace({\"userid\": maps[0], \"itemid\": maps[1]})\n",
    "dataw.head()"
   ]
  },
  {
   "cell_type": "code",
   "execution_count": 16,
   "metadata": {},
   "outputs": [],
   "source": [
    "def create_pivot(df):\n",
    "    df['count'] = 1\n",
    "    schemadf = pd.DataFrame(list(product(list(maps[0].values()), list(maps[1].values()))), columns=['userid', 'itemid'])\n",
    "    schemadf['count'] = 0\n",
    "    df = df.append(schemadf)\n",
    "    dfp = pd.pivot_table(df, values='count', index='userid',\n",
    "                   columns='itemid', aggfunc=np.sum)\n",
    "    dfp = dfp.fillna(0, downcast='infer')\n",
    "    dfp = dfp.astype('int')\n",
    "    return dfp"
   ]
  },
  {
   "cell_type": "code",
   "execution_count": 17,
   "metadata": {},
   "outputs": [],
   "source": [
    "interactions = create_pivot(dataw)"
   ]
  },
  {
   "cell_type": "code",
   "execution_count": 18,
   "metadata": {},
   "outputs": [
    {
     "data": {
      "text/html": [
       "<style  type=\"text/css\" >\n",
       "#T_a120a_row0_col0,#T_a120a_row0_col1,#T_a120a_row0_col2,#T_a120a_row0_col3,#T_a120a_row0_col4,#T_a120a_row0_col7,#T_a120a_row0_col8,#T_a120a_row0_col9,#T_a120a_row1_col2,#T_a120a_row1_col3,#T_a120a_row1_col5,#T_a120a_row1_col6,#T_a120a_row1_col7,#T_a120a_row1_col8,#T_a120a_row1_col9{\n",
       "            background-color:  #f7fcf5;\n",
       "            color:  #000000;\n",
       "        }#T_a120a_row0_col5,#T_a120a_row0_col6,#T_a120a_row1_col0,#T_a120a_row1_col1,#T_a120a_row1_col4{\n",
       "            background-color:  #c7e9c0;\n",
       "            color:  #000000;\n",
       "        }</style><table id=\"T_a120a_\" ><thead>    <tr>        <th class=\"index_name level0\" >itemid</th>        <th class=\"col_heading level0 col0\" >0</th>        <th class=\"col_heading level0 col1\" >1</th>        <th class=\"col_heading level0 col2\" >2</th>        <th class=\"col_heading level0 col3\" >3</th>        <th class=\"col_heading level0 col4\" >4</th>        <th class=\"col_heading level0 col5\" >5</th>        <th class=\"col_heading level0 col6\" >6</th>        <th class=\"col_heading level0 col7\" >7</th>        <th class=\"col_heading level0 col8\" >8</th>        <th class=\"col_heading level0 col9\" >9</th>    </tr>    <tr>        <th class=\"index_name level0\" >userid</th>        <th class=\"blank\" ></th>        <th class=\"blank\" ></th>        <th class=\"blank\" ></th>        <th class=\"blank\" ></th>        <th class=\"blank\" ></th>        <th class=\"blank\" ></th>        <th class=\"blank\" ></th>        <th class=\"blank\" ></th>        <th class=\"blank\" ></th>        <th class=\"blank\" ></th>    </tr></thead><tbody>\n",
       "                <tr>\n",
       "                        <th id=\"T_a120a_level0_row0\" class=\"row_heading level0 row0\" >0</th>\n",
       "                        <td id=\"T_a120a_row0_col0\" class=\"data row0 col0\" >0</td>\n",
       "                        <td id=\"T_a120a_row0_col1\" class=\"data row0 col1\" >0</td>\n",
       "                        <td id=\"T_a120a_row0_col2\" class=\"data row0 col2\" >0</td>\n",
       "                        <td id=\"T_a120a_row0_col3\" class=\"data row0 col3\" >0</td>\n",
       "                        <td id=\"T_a120a_row0_col4\" class=\"data row0 col4\" >0</td>\n",
       "                        <td id=\"T_a120a_row0_col5\" class=\"data row0 col5\" >3</td>\n",
       "                        <td id=\"T_a120a_row0_col6\" class=\"data row0 col6\" >3</td>\n",
       "                        <td id=\"T_a120a_row0_col7\" class=\"data row0 col7\" >0</td>\n",
       "                        <td id=\"T_a120a_row0_col8\" class=\"data row0 col8\" >0</td>\n",
       "                        <td id=\"T_a120a_row0_col9\" class=\"data row0 col9\" >0</td>\n",
       "            </tr>\n",
       "            <tr>\n",
       "                        <th id=\"T_a120a_level0_row1\" class=\"row_heading level0 row1\" >1</th>\n",
       "                        <td id=\"T_a120a_row1_col0\" class=\"data row1 col0\" >5</td>\n",
       "                        <td id=\"T_a120a_row1_col1\" class=\"data row1 col1\" >5</td>\n",
       "                        <td id=\"T_a120a_row1_col2\" class=\"data row1 col2\" >0</td>\n",
       "                        <td id=\"T_a120a_row1_col3\" class=\"data row1 col3\" >0</td>\n",
       "                        <td id=\"T_a120a_row1_col4\" class=\"data row1 col4\" >6</td>\n",
       "                        <td id=\"T_a120a_row1_col5\" class=\"data row1 col5\" >0</td>\n",
       "                        <td id=\"T_a120a_row1_col6\" class=\"data row1 col6\" >0</td>\n",
       "                        <td id=\"T_a120a_row1_col7\" class=\"data row1 col7\" >0</td>\n",
       "                        <td id=\"T_a120a_row1_col8\" class=\"data row1 col8\" >0</td>\n",
       "                        <td id=\"T_a120a_row1_col9\" class=\"data row1 col9\" >0</td>\n",
       "            </tr>\n",
       "    </tbody></table>"
      ],
      "text/plain": [
       "<pandas.io.formats.style.Styler at 0x1f691ade100>"
      ]
     },
     "execution_count": 18,
     "metadata": {},
     "output_type": "execute_result"
    }
   ],
   "source": [
    "interactions.style.background_gradient(cmap='Greens',high=interactions.max().max()/2)"
   ]
  },
  {
   "cell_type": "markdown",
   "metadata": {},
   "source": [
    "https://pandas.pydata.org/pandas-docs/stable/user_guide/style.html"
   ]
  },
  {
   "cell_type": "code",
   "execution_count": 100,
   "metadata": {},
   "outputs": [],
   "source": [
    "def recommend(userid, topk=2):\n",
    "    uid = maps[0][userid]\n",
    "    _temp = interactions.iloc[uid]\n",
    "    _temp = _temp[_temp!=0]\n",
    "    _tempdf = pd.DataFrame(columns=['itemid','distance'])\n",
    "    for row in _temp.iteritems():\n",
    "        _temp1 = topk_distance(imap_inverse[row[0]])\n",
    "        _temp2 = pd.DataFrame(list(_temp1.items()), columns=['itemid','distance'])\n",
    "        _temp2['weight'] = row[1]\n",
    "        _tempdf = _tempdf.append(_temp2)\n",
    "    _tempdf = _tempdf[_tempdf['distance']!=0]\n",
    "    _tempdf['distance']+=1\n",
    "    _tempdf['score'] = np.sqrt(_tempdf['weight'])/np.log(_tempdf['distance'])\n",
    "    _tempdf = _tempdf.set_index('itemid')\n",
    "    _tempdf = _tempdf[['score']].groupby(['itemid']).mean()\n",
    "    _tempdf = _tempdf.sort_values(by='score', ascending=False)\n",
    "    return _tempdf.index.values[:topk]"
   ]
  },
  {
   "cell_type": "code",
   "execution_count": 102,
   "metadata": {},
   "outputs": [
    {
     "data": {
      "text/plain": [
       "array(['10003', '10002'], dtype=object)"
      ]
     },
     "execution_count": 102,
     "metadata": {},
     "output_type": "execute_result"
    }
   ],
   "source": [
    "recommend('user1')"
   ]
  },
  {
   "cell_type": "code",
   "execution_count": null,
   "metadata": {},
   "outputs": [],
   "source": []
  }
 ],
 "metadata": {
  "kernelspec": {
   "name": "python371jvsc74a57bd0e09bc63938c7c12a1d261af93fef4c49c4bc4ec4b59849b02ca92b0abe12c74c",
   "display_name": "Python 3.7.1 64-bit ('env': conda)"
  },
  "language_info": {
   "codemirror_mode": {
    "name": "ipython",
    "version": 3
   },
   "file_extension": ".py",
   "mimetype": "text/x-python",
   "name": "python",
   "nbconvert_exporter": "python",
   "pygments_lexer": "ipython3",
   "version": "3.7.1"
  }
 },
 "nbformat": 4,
 "nbformat_minor": 4
}