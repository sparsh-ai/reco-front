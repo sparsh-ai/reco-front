{
 "cells": [
  {
   "cell_type": "code",
   "execution_count": 1,
   "metadata": {},
   "outputs": [],
   "source": [
    "import numpy as np\n",
    "import pandas as pd\n",
    "from itertools import product\n",
    "from sklearn import preprocessing\n",
    "from itemrep_inference import topk_distance"
   ]
  },
  {
   "cell_type": "code",
   "execution_count": 2,
   "metadata": {},
   "outputs": [],
   "source": [
    "data_path = '../data/logs_test_300421_1.p'"
   ]
  },
  {
   "cell_type": "code",
   "execution_count": 3,
   "metadata": {},
   "outputs": [
    {
     "output_type": "execute_result",
     "data": {
      "text/plain": [
       "           pk               created_at   client_ip  \\\n",
       "0  2021-04-30  2021-04-30 09:41:30.458  172.26.0.1   \n",
       "1  2021-04-30  2021-04-30 09:41:30.597  172.26.0.1   \n",
       "2  2021-04-30  2021-04-30 09:41:30.605  172.26.0.1   \n",
       "3  2021-04-30  2021-04-30 09:41:30.616  172.26.0.1   \n",
       "4  2021-04-30  2021-04-30 09:41:30.634  172.26.0.1   \n",
       "\n",
       "                                     cookie_id event_name  item_id  \\\n",
       "0  0:ko0sujvr:WcQ5Z8kIqvWRLp3~Rlpxu_ygeqqQMdkN       view    10008   \n",
       "1  0:ko0sujvr:WcQ5Z8kIqvWRLp3~Rlpxu_ygeqqQMdkN       view    10009   \n",
       "2  0:ko0sujvr:WcQ5Z8kIqvWRLp3~Rlpxu_ygeqqQMdkN       view    10001   \n",
       "3  0:ko0sujvr:WcQ5Z8kIqvWRLp3~Rlpxu_ygeqqQMdkN       view    10000   \n",
       "4  0:ko0sujvr:WcQ5Z8kIqvWRLp3~Rlpxu_ygeqqQMdkN       view    10002   \n",
       "\n",
       "                      url  \n",
       "0  http://127.0.0.1:8052/  \n",
       "1  http://127.0.0.1:8052/  \n",
       "2  http://127.0.0.1:8052/  \n",
       "3  http://127.0.0.1:8052/  \n",
       "4  http://127.0.0.1:8052/  "
      ],
      "text/html": "<div>\n<style scoped>\n    .dataframe tbody tr th:only-of-type {\n        vertical-align: middle;\n    }\n\n    .dataframe tbody tr th {\n        vertical-align: top;\n    }\n\n    .dataframe thead th {\n        text-align: right;\n    }\n</style>\n<table border=\"1\" class=\"dataframe\">\n  <thead>\n    <tr style=\"text-align: right;\">\n      <th></th>\n      <th>pk</th>\n      <th>created_at</th>\n      <th>client_ip</th>\n      <th>cookie_id</th>\n      <th>event_name</th>\n      <th>item_id</th>\n      <th>url</th>\n    </tr>\n  </thead>\n  <tbody>\n    <tr>\n      <th>0</th>\n      <td>2021-04-30</td>\n      <td>2021-04-30 09:41:30.458</td>\n      <td>172.26.0.1</td>\n      <td>0:ko0sujvr:WcQ5Z8kIqvWRLp3~Rlpxu_ygeqqQMdkN</td>\n      <td>view</td>\n      <td>10008</td>\n      <td>http://127.0.0.1:8052/</td>\n    </tr>\n    <tr>\n      <th>1</th>\n      <td>2021-04-30</td>\n      <td>2021-04-30 09:41:30.597</td>\n      <td>172.26.0.1</td>\n      <td>0:ko0sujvr:WcQ5Z8kIqvWRLp3~Rlpxu_ygeqqQMdkN</td>\n      <td>view</td>\n      <td>10009</td>\n      <td>http://127.0.0.1:8052/</td>\n    </tr>\n    <tr>\n      <th>2</th>\n      <td>2021-04-30</td>\n      <td>2021-04-30 09:41:30.605</td>\n      <td>172.26.0.1</td>\n      <td>0:ko0sujvr:WcQ5Z8kIqvWRLp3~Rlpxu_ygeqqQMdkN</td>\n      <td>view</td>\n      <td>10001</td>\n      <td>http://127.0.0.1:8052/</td>\n    </tr>\n    <tr>\n      <th>3</th>\n      <td>2021-04-30</td>\n      <td>2021-04-30 09:41:30.616</td>\n      <td>172.26.0.1</td>\n      <td>0:ko0sujvr:WcQ5Z8kIqvWRLp3~Rlpxu_ygeqqQMdkN</td>\n      <td>view</td>\n      <td>10000</td>\n      <td>http://127.0.0.1:8052/</td>\n    </tr>\n    <tr>\n      <th>4</th>\n      <td>2021-04-30</td>\n      <td>2021-04-30 09:41:30.634</td>\n      <td>172.26.0.1</td>\n      <td>0:ko0sujvr:WcQ5Z8kIqvWRLp3~Rlpxu_ygeqqQMdkN</td>\n      <td>view</td>\n      <td>10002</td>\n      <td>http://127.0.0.1:8052/</td>\n    </tr>\n  </tbody>\n</table>\n</div>"
     },
     "metadata": {},
     "execution_count": 3
    }
   ],
   "source": [
    "data = pd.read_pickle(data_path)\n",
    "data.head()"
   ]
  },
  {
   "cell_type": "code",
   "execution_count": 4,
   "metadata": {},
   "outputs": [
    {
     "output_type": "stream",
     "name": "stdout",
     "text": [
      "<class 'pandas.core.frame.DataFrame'>\nRangeIndex: 215 entries, 0 to 214\nData columns (total 7 columns):\n #   Column      Non-Null Count  Dtype \n---  ------      --------------  ----- \n 0   pk          215 non-null    object\n 1   created_at  215 non-null    object\n 2   client_ip   215 non-null    object\n 3   cookie_id   215 non-null    object\n 4   event_name  215 non-null    object\n 5   item_id     215 non-null    int64 \n 6   url         215 non-null    object\ndtypes: int64(1), object(6)\nmemory usage: 11.9+ KB\n"
     ]
    }
   ],
   "source": [
    "data.info()"
   ]
  },
  {
   "cell_type": "code",
   "execution_count": 5,
   "metadata": {},
   "outputs": [
    {
     "output_type": "execute_result",
     "data": {
      "text/plain": [
       "                pk               created_at   client_ip  \\\n",
       "count          215                      215         215   \n",
       "unique           1                      215           3   \n",
       "top     2021-04-30  2021-04-30 13:59:14.238  172.28.0.1   \n",
       "freq           215                        1         122   \n",
       "mean           NaN                      NaN         NaN   \n",
       "std            NaN                      NaN         NaN   \n",
       "min            NaN                      NaN         NaN   \n",
       "25%            NaN                      NaN         NaN   \n",
       "50%            NaN                      NaN         NaN   \n",
       "75%            NaN                      NaN         NaN   \n",
       "max            NaN                      NaN         NaN   \n",
       "\n",
       "                                          cookie_id event_name       item_id  \\\n",
       "count                                           215        215    215.000000   \n",
       "unique                                            2          2           NaN   \n",
       "top     0:ko0sujvr:WcQ5Z8kIqvWRLp3~Rlpxu_ygeqqQMdkN       view           NaN   \n",
       "freq                                            179        160           NaN   \n",
       "mean                                            NaN        NaN  10004.623256   \n",
       "std                                             NaN        NaN      2.903819   \n",
       "min                                             NaN        NaN  10000.000000   \n",
       "25%                                             NaN        NaN  10002.000000   \n",
       "50%                                             NaN        NaN  10005.000000   \n",
       "75%                                             NaN        NaN  10007.000000   \n",
       "max                                             NaN        NaN  10009.000000   \n",
       "\n",
       "                           url  \n",
       "count                      215  \n",
       "unique                       2  \n",
       "top     http://127.0.0.1:8052/  \n",
       "freq                       119  \n",
       "mean                       NaN  \n",
       "std                        NaN  \n",
       "min                        NaN  \n",
       "25%                        NaN  \n",
       "50%                        NaN  \n",
       "75%                        NaN  \n",
       "max                        NaN  "
      ],
      "text/html": "<div>\n<style scoped>\n    .dataframe tbody tr th:only-of-type {\n        vertical-align: middle;\n    }\n\n    .dataframe tbody tr th {\n        vertical-align: top;\n    }\n\n    .dataframe thead th {\n        text-align: right;\n    }\n</style>\n<table border=\"1\" class=\"dataframe\">\n  <thead>\n    <tr style=\"text-align: right;\">\n      <th></th>\n      <th>pk</th>\n      <th>created_at</th>\n      <th>client_ip</th>\n      <th>cookie_id</th>\n      <th>event_name</th>\n      <th>item_id</th>\n      <th>url</th>\n    </tr>\n  </thead>\n  <tbody>\n    <tr>\n      <th>count</th>\n      <td>215</td>\n      <td>215</td>\n      <td>215</td>\n      <td>215</td>\n      <td>215</td>\n      <td>215.000000</td>\n      <td>215</td>\n    </tr>\n    <tr>\n      <th>unique</th>\n      <td>1</td>\n      <td>215</td>\n      <td>3</td>\n      <td>2</td>\n      <td>2</td>\n      <td>NaN</td>\n      <td>2</td>\n    </tr>\n    <tr>\n      <th>top</th>\n      <td>2021-04-30</td>\n      <td>2021-04-30 13:59:14.238</td>\n      <td>172.28.0.1</td>\n      <td>0:ko0sujvr:WcQ5Z8kIqvWRLp3~Rlpxu_ygeqqQMdkN</td>\n      <td>view</td>\n      <td>NaN</td>\n      <td>http://127.0.0.1:8052/</td>\n    </tr>\n    <tr>\n      <th>freq</th>\n      <td>215</td>\n      <td>1</td>\n      <td>122</td>\n      <td>179</td>\n      <td>160</td>\n      <td>NaN</td>\n      <td>119</td>\n    </tr>\n    <tr>\n      <th>mean</th>\n      <td>NaN</td>\n      <td>NaN</td>\n      <td>NaN</td>\n      <td>NaN</td>\n      <td>NaN</td>\n      <td>10004.623256</td>\n      <td>NaN</td>\n    </tr>\n    <tr>\n      <th>std</th>\n      <td>NaN</td>\n      <td>NaN</td>\n      <td>NaN</td>\n      <td>NaN</td>\n      <td>NaN</td>\n      <td>2.903819</td>\n      <td>NaN</td>\n    </tr>\n    <tr>\n      <th>min</th>\n      <td>NaN</td>\n      <td>NaN</td>\n      <td>NaN</td>\n      <td>NaN</td>\n      <td>NaN</td>\n      <td>10000.000000</td>\n      <td>NaN</td>\n    </tr>\n    <tr>\n      <th>25%</th>\n      <td>NaN</td>\n      <td>NaN</td>\n      <td>NaN</td>\n      <td>NaN</td>\n      <td>NaN</td>\n      <td>10002.000000</td>\n      <td>NaN</td>\n    </tr>\n    <tr>\n      <th>50%</th>\n      <td>NaN</td>\n      <td>NaN</td>\n      <td>NaN</td>\n      <td>NaN</td>\n      <td>NaN</td>\n      <td>10005.000000</td>\n      <td>NaN</td>\n    </tr>\n    <tr>\n      <th>75%</th>\n      <td>NaN</td>\n      <td>NaN</td>\n      <td>NaN</td>\n      <td>NaN</td>\n      <td>NaN</td>\n      <td>10007.000000</td>\n      <td>NaN</td>\n    </tr>\n    <tr>\n      <th>max</th>\n      <td>NaN</td>\n      <td>NaN</td>\n      <td>NaN</td>\n      <td>NaN</td>\n      <td>NaN</td>\n      <td>10009.000000</td>\n      <td>NaN</td>\n    </tr>\n  </tbody>\n</table>\n</div>"
     },
     "metadata": {},
     "execution_count": 5
    }
   ],
   "source": [
    "data.describe(include='all')"
   ]
  },
  {
   "cell_type": "code",
   "execution_count": 6,
   "metadata": {},
   "outputs": [
    {
     "output_type": "display_data",
     "data": {
      "text/plain": "<Figure size 432x288 with 1 Axes>",
      "image/svg+xml": "<?xml version=\"1.0\" encoding=\"utf-8\" standalone=\"no\"?>\n<!DOCTYPE svg PUBLIC \"-//W3C//DTD SVG 1.1//EN\"\n  \"http://www.w3.org/Graphics/SVG/1.1/DTD/svg11.dtd\">\n<!-- Created with matplotlib (https://matplotlib.org/) -->\n<svg height=\"252.018125pt\" version=\"1.1\" viewBox=\"0 0 404.421875 252.018125\" width=\"404.421875pt\" xmlns=\"http://www.w3.org/2000/svg\" xmlns:xlink=\"http://www.w3.org/1999/xlink\">\n <defs>\n  <style type=\"text/css\">\n*{stroke-linecap:butt;stroke-linejoin:round;}\n  </style>\n </defs>\n <g id=\"figure_1\">\n  <g id=\"patch_1\">\n   <path d=\"M 0 252.018125 \nL 404.421875 252.018125 \nL 404.421875 0 \nL 0 0 \nz\n\" style=\"fill:none;\"/>\n  </g>\n  <g id=\"axes_1\">\n   <g id=\"patch_2\">\n    <path d=\"M 58.921875 228.14 \nL 393.721875 228.14 \nL 393.721875 10.7 \nL 58.921875 10.7 \nz\n\" style=\"fill:#ffffff;\"/>\n   </g>\n   <g id=\"matplotlib.axis_1\">\n    <g id=\"xtick_1\">\n     <g id=\"line2d_1\">\n      <defs>\n       <path d=\"M 0 0 \nL 0 3.5 \n\" id=\"m1502ad988c\" style=\"stroke:#000000;stroke-width:0.8;\"/>\n      </defs>\n      <g>\n       <use style=\"stroke:#000000;stroke-width:0.8;\" x=\"74.140057\" xlink:href=\"#m1502ad988c\" y=\"228.14\"/>\n      </g>\n     </g>\n     <g id=\"text_1\">\n      <!-- 0 -->\n      <defs>\n       <path d=\"M 31.78125 66.40625 \nQ 24.171875 66.40625 20.328125 58.90625 \nQ 16.5 51.421875 16.5 36.375 \nQ 16.5 21.390625 20.328125 13.890625 \nQ 24.171875 6.390625 31.78125 6.390625 \nQ 39.453125 6.390625 43.28125 13.890625 \nQ 47.125 21.390625 47.125 36.375 \nQ 47.125 51.421875 43.28125 58.90625 \nQ 39.453125 66.40625 31.78125 66.40625 \nz\nM 31.78125 74.21875 \nQ 44.046875 74.21875 50.515625 64.515625 \nQ 56.984375 54.828125 56.984375 36.375 \nQ 56.984375 17.96875 50.515625 8.265625 \nQ 44.046875 -1.421875 31.78125 -1.421875 \nQ 19.53125 -1.421875 13.0625 8.265625 \nQ 6.59375 17.96875 6.59375 36.375 \nQ 6.59375 54.828125 13.0625 64.515625 \nQ 19.53125 74.21875 31.78125 74.21875 \nz\n\" id=\"DejaVuSans-48\"/>\n      </defs>\n      <g transform=\"translate(70.958807 242.738437)scale(0.1 -0.1)\">\n       <use xlink:href=\"#DejaVuSans-48\"/>\n      </g>\n     </g>\n    </g>\n    <g id=\"xtick_2\">\n     <g id=\"line2d_2\">\n      <g>\n       <use style=\"stroke:#000000;stroke-width:0.8;\" x=\"145.253056\" xlink:href=\"#m1502ad988c\" y=\"228.14\"/>\n      </g>\n     </g>\n     <g id=\"text_2\">\n      <!-- 50 -->\n      <defs>\n       <path d=\"M 10.796875 72.90625 \nL 49.515625 72.90625 \nL 49.515625 64.59375 \nL 19.828125 64.59375 \nL 19.828125 46.734375 \nQ 21.96875 47.46875 24.109375 47.828125 \nQ 26.265625 48.1875 28.421875 48.1875 \nQ 40.625 48.1875 47.75 41.5 \nQ 54.890625 34.8125 54.890625 23.390625 \nQ 54.890625 11.625 47.5625 5.09375 \nQ 40.234375 -1.421875 26.90625 -1.421875 \nQ 22.3125 -1.421875 17.546875 -0.640625 \nQ 12.796875 0.140625 7.71875 1.703125 \nL 7.71875 11.625 \nQ 12.109375 9.234375 16.796875 8.0625 \nQ 21.484375 6.890625 26.703125 6.890625 \nQ 35.15625 6.890625 40.078125 11.328125 \nQ 45.015625 15.765625 45.015625 23.390625 \nQ 45.015625 31 40.078125 35.4375 \nQ 35.15625 39.890625 26.703125 39.890625 \nQ 22.75 39.890625 18.8125 39.015625 \nQ 14.890625 38.140625 10.796875 36.28125 \nz\n\" id=\"DejaVuSans-53\"/>\n      </defs>\n      <g transform=\"translate(138.890556 242.738437)scale(0.1 -0.1)\">\n       <use xlink:href=\"#DejaVuSans-53\"/>\n       <use x=\"63.623047\" xlink:href=\"#DejaVuSans-48\"/>\n      </g>\n     </g>\n    </g>\n    <g id=\"xtick_3\">\n     <g id=\"line2d_3\">\n      <g>\n       <use style=\"stroke:#000000;stroke-width:0.8;\" x=\"216.366055\" xlink:href=\"#m1502ad988c\" y=\"228.14\"/>\n      </g>\n     </g>\n     <g id=\"text_3\">\n      <!-- 100 -->\n      <defs>\n       <path d=\"M 12.40625 8.296875 \nL 28.515625 8.296875 \nL 28.515625 63.921875 \nL 10.984375 60.40625 \nL 10.984375 69.390625 \nL 28.421875 72.90625 \nL 38.28125 72.90625 \nL 38.28125 8.296875 \nL 54.390625 8.296875 \nL 54.390625 0 \nL 12.40625 0 \nz\n\" id=\"DejaVuSans-49\"/>\n      </defs>\n      <g transform=\"translate(206.822305 242.738437)scale(0.1 -0.1)\">\n       <use xlink:href=\"#DejaVuSans-49\"/>\n       <use x=\"63.623047\" xlink:href=\"#DejaVuSans-48\"/>\n       <use x=\"127.246094\" xlink:href=\"#DejaVuSans-48\"/>\n      </g>\n     </g>\n    </g>\n    <g id=\"xtick_4\">\n     <g id=\"line2d_4\">\n      <g>\n       <use style=\"stroke:#000000;stroke-width:0.8;\" x=\"287.479054\" xlink:href=\"#m1502ad988c\" y=\"228.14\"/>\n      </g>\n     </g>\n     <g id=\"text_4\">\n      <!-- 150 -->\n      <g transform=\"translate(277.935304 242.738437)scale(0.1 -0.1)\">\n       <use xlink:href=\"#DejaVuSans-49\"/>\n       <use x=\"63.623047\" xlink:href=\"#DejaVuSans-53\"/>\n       <use x=\"127.246094\" xlink:href=\"#DejaVuSans-48\"/>\n      </g>\n     </g>\n    </g>\n    <g id=\"xtick_5\">\n     <g id=\"line2d_5\">\n      <g>\n       <use style=\"stroke:#000000;stroke-width:0.8;\" x=\"358.592053\" xlink:href=\"#m1502ad988c\" y=\"228.14\"/>\n      </g>\n     </g>\n     <g id=\"text_5\">\n      <!-- 200 -->\n      <defs>\n       <path d=\"M 19.1875 8.296875 \nL 53.609375 8.296875 \nL 53.609375 0 \nL 7.328125 0 \nL 7.328125 8.296875 \nQ 12.9375 14.109375 22.625 23.890625 \nQ 32.328125 33.6875 34.8125 36.53125 \nQ 39.546875 41.84375 41.421875 45.53125 \nQ 43.3125 49.21875 43.3125 52.78125 \nQ 43.3125 58.59375 39.234375 62.25 \nQ 35.15625 65.921875 28.609375 65.921875 \nQ 23.96875 65.921875 18.8125 64.3125 \nQ 13.671875 62.703125 7.8125 59.421875 \nL 7.8125 69.390625 \nQ 13.765625 71.78125 18.9375 73 \nQ 24.125 74.21875 28.421875 74.21875 \nQ 39.75 74.21875 46.484375 68.546875 \nQ 53.21875 62.890625 53.21875 53.421875 \nQ 53.21875 48.921875 51.53125 44.890625 \nQ 49.859375 40.875 45.40625 35.40625 \nQ 44.1875 33.984375 37.640625 27.21875 \nQ 31.109375 20.453125 19.1875 8.296875 \nz\n\" id=\"DejaVuSans-50\"/>\n      </defs>\n      <g transform=\"translate(349.048303 242.738437)scale(0.1 -0.1)\">\n       <use xlink:href=\"#DejaVuSans-50\"/>\n       <use x=\"63.623047\" xlink:href=\"#DejaVuSans-48\"/>\n       <use x=\"127.246094\" xlink:href=\"#DejaVuSans-48\"/>\n      </g>\n     </g>\n    </g>\n   </g>\n   <g id=\"matplotlib.axis_2\">\n    <g id=\"ytick_1\">\n     <g id=\"line2d_6\">\n      <defs>\n       <path d=\"M 0 0 \nL -3.5 0 \n\" id=\"m40da5bb206\" style=\"stroke:#000000;stroke-width:0.8;\"/>\n      </defs>\n      <g>\n       <use style=\"stroke:#000000;stroke-width:0.8;\" x=\"58.921875\" xlink:href=\"#m40da5bb206\" y=\"227.051555\"/>\n      </g>\n     </g>\n     <g id=\"text_6\">\n      <!-- 30 09:30 -->\n      <defs>\n       <path d=\"M 40.578125 39.3125 \nQ 47.65625 37.796875 51.625 33 \nQ 55.609375 28.21875 55.609375 21.1875 \nQ 55.609375 10.40625 48.1875 4.484375 \nQ 40.765625 -1.421875 27.09375 -1.421875 \nQ 22.515625 -1.421875 17.65625 -0.515625 \nQ 12.796875 0.390625 7.625 2.203125 \nL 7.625 11.71875 \nQ 11.71875 9.328125 16.59375 8.109375 \nQ 21.484375 6.890625 26.8125 6.890625 \nQ 36.078125 6.890625 40.9375 10.546875 \nQ 45.796875 14.203125 45.796875 21.1875 \nQ 45.796875 27.640625 41.28125 31.265625 \nQ 36.765625 34.90625 28.71875 34.90625 \nL 20.21875 34.90625 \nL 20.21875 43.015625 \nL 29.109375 43.015625 \nQ 36.375 43.015625 40.234375 45.921875 \nQ 44.09375 48.828125 44.09375 54.296875 \nQ 44.09375 59.90625 40.109375 62.90625 \nQ 36.140625 65.921875 28.71875 65.921875 \nQ 24.65625 65.921875 20.015625 65.03125 \nQ 15.375 64.15625 9.8125 62.3125 \nL 9.8125 71.09375 \nQ 15.4375 72.65625 20.34375 73.4375 \nQ 25.25 74.21875 29.59375 74.21875 \nQ 40.828125 74.21875 47.359375 69.109375 \nQ 53.90625 64.015625 53.90625 55.328125 \nQ 53.90625 49.265625 50.4375 45.09375 \nQ 46.96875 40.921875 40.578125 39.3125 \nz\n\" id=\"DejaVuSans-51\"/>\n       <path id=\"DejaVuSans-32\"/>\n       <path d=\"M 10.984375 1.515625 \nL 10.984375 10.5 \nQ 14.703125 8.734375 18.5 7.8125 \nQ 22.3125 6.890625 25.984375 6.890625 \nQ 35.75 6.890625 40.890625 13.453125 \nQ 46.046875 20.015625 46.78125 33.40625 \nQ 43.953125 29.203125 39.59375 26.953125 \nQ 35.25 24.703125 29.984375 24.703125 \nQ 19.046875 24.703125 12.671875 31.3125 \nQ 6.296875 37.9375 6.296875 49.421875 \nQ 6.296875 60.640625 12.9375 67.421875 \nQ 19.578125 74.21875 30.609375 74.21875 \nQ 43.265625 74.21875 49.921875 64.515625 \nQ 56.59375 54.828125 56.59375 36.375 \nQ 56.59375 19.140625 48.40625 8.859375 \nQ 40.234375 -1.421875 26.421875 -1.421875 \nQ 22.703125 -1.421875 18.890625 -0.6875 \nQ 15.09375 0.046875 10.984375 1.515625 \nz\nM 30.609375 32.421875 \nQ 37.25 32.421875 41.125 36.953125 \nQ 45.015625 41.5 45.015625 49.421875 \nQ 45.015625 57.28125 41.125 61.84375 \nQ 37.25 66.40625 30.609375 66.40625 \nQ 23.96875 66.40625 20.09375 61.84375 \nQ 16.21875 57.28125 16.21875 49.421875 \nQ 16.21875 41.5 20.09375 36.953125 \nQ 23.96875 32.421875 30.609375 32.421875 \nz\n\" id=\"DejaVuSans-57\"/>\n       <path d=\"M 11.71875 12.40625 \nL 22.015625 12.40625 \nL 22.015625 0 \nL 11.71875 0 \nz\nM 11.71875 51.703125 \nL 22.015625 51.703125 \nL 22.015625 39.3125 \nL 11.71875 39.3125 \nz\n\" id=\"DejaVuSans-58\"/>\n      </defs>\n      <g transform=\"translate(7.2 230.850773)scale(0.1 -0.1)\">\n       <use xlink:href=\"#DejaVuSans-51\"/>\n       <use x=\"63.623047\" xlink:href=\"#DejaVuSans-48\"/>\n       <use x=\"127.246094\" xlink:href=\"#DejaVuSans-32\"/>\n       <use x=\"159.033203\" xlink:href=\"#DejaVuSans-48\"/>\n       <use x=\"222.65625\" xlink:href=\"#DejaVuSans-57\"/>\n       <use x=\"286.279297\" xlink:href=\"#DejaVuSans-58\"/>\n       <use x=\"319.970703\" xlink:href=\"#DejaVuSans-51\"/>\n       <use x=\"383.59375\" xlink:href=\"#DejaVuSans-48\"/>\n      </g>\n     </g>\n    </g>\n    <g id=\"ytick_2\">\n     <g id=\"line2d_7\">\n      <g>\n       <use style=\"stroke:#000000;stroke-width:0.8;\" x=\"58.921875\" xlink:href=\"#m40da5bb206\" y=\"204.122797\"/>\n      </g>\n     </g>\n     <g id=\"text_7\">\n      <!-- 30 10:00 -->\n      <g transform=\"translate(7.2 207.922016)scale(0.1 -0.1)\">\n       <use xlink:href=\"#DejaVuSans-51\"/>\n       <use x=\"63.623047\" xlink:href=\"#DejaVuSans-48\"/>\n       <use x=\"127.246094\" xlink:href=\"#DejaVuSans-32\"/>\n       <use x=\"159.033203\" xlink:href=\"#DejaVuSans-49\"/>\n       <use x=\"222.65625\" xlink:href=\"#DejaVuSans-48\"/>\n       <use x=\"286.279297\" xlink:href=\"#DejaVuSans-58\"/>\n       <use x=\"319.970703\" xlink:href=\"#DejaVuSans-48\"/>\n       <use x=\"383.59375\" xlink:href=\"#DejaVuSans-48\"/>\n      </g>\n     </g>\n    </g>\n    <g id=\"ytick_3\">\n     <g id=\"line2d_8\">\n      <g>\n       <use style=\"stroke:#000000;stroke-width:0.8;\" x=\"58.921875\" xlink:href=\"#m40da5bb206\" y=\"181.19404\"/>\n      </g>\n     </g>\n     <g id=\"text_8\">\n      <!-- 30 10:30 -->\n      <g transform=\"translate(7.2 184.993259)scale(0.1 -0.1)\">\n       <use xlink:href=\"#DejaVuSans-51\"/>\n       <use x=\"63.623047\" xlink:href=\"#DejaVuSans-48\"/>\n       <use x=\"127.246094\" xlink:href=\"#DejaVuSans-32\"/>\n       <use x=\"159.033203\" xlink:href=\"#DejaVuSans-49\"/>\n       <use x=\"222.65625\" xlink:href=\"#DejaVuSans-48\"/>\n       <use x=\"286.279297\" xlink:href=\"#DejaVuSans-58\"/>\n       <use x=\"319.970703\" xlink:href=\"#DejaVuSans-51\"/>\n       <use x=\"383.59375\" xlink:href=\"#DejaVuSans-48\"/>\n      </g>\n     </g>\n    </g>\n    <g id=\"ytick_4\">\n     <g id=\"line2d_9\">\n      <g>\n       <use style=\"stroke:#000000;stroke-width:0.8;\" x=\"58.921875\" xlink:href=\"#m40da5bb206\" y=\"158.265283\"/>\n      </g>\n     </g>\n     <g id=\"text_9\">\n      <!-- 30 11:00 -->\n      <g transform=\"translate(7.2 162.064501)scale(0.1 -0.1)\">\n       <use xlink:href=\"#DejaVuSans-51\"/>\n       <use x=\"63.623047\" xlink:href=\"#DejaVuSans-48\"/>\n       <use x=\"127.246094\" xlink:href=\"#DejaVuSans-32\"/>\n       <use x=\"159.033203\" xlink:href=\"#DejaVuSans-49\"/>\n       <use x=\"222.65625\" xlink:href=\"#DejaVuSans-49\"/>\n       <use x=\"286.279297\" xlink:href=\"#DejaVuSans-58\"/>\n       <use x=\"319.970703\" xlink:href=\"#DejaVuSans-48\"/>\n       <use x=\"383.59375\" xlink:href=\"#DejaVuSans-48\"/>\n      </g>\n     </g>\n    </g>\n    <g id=\"ytick_5\">\n     <g id=\"line2d_10\">\n      <g>\n       <use style=\"stroke:#000000;stroke-width:0.8;\" x=\"58.921875\" xlink:href=\"#m40da5bb206\" y=\"135.336526\"/>\n      </g>\n     </g>\n     <g id=\"text_10\">\n      <!-- 30 11:30 -->\n      <g transform=\"translate(7.2 139.135744)scale(0.1 -0.1)\">\n       <use xlink:href=\"#DejaVuSans-51\"/>\n       <use x=\"63.623047\" xlink:href=\"#DejaVuSans-48\"/>\n       <use x=\"127.246094\" xlink:href=\"#DejaVuSans-32\"/>\n       <use x=\"159.033203\" xlink:href=\"#DejaVuSans-49\"/>\n       <use x=\"222.65625\" xlink:href=\"#DejaVuSans-49\"/>\n       <use x=\"286.279297\" xlink:href=\"#DejaVuSans-58\"/>\n       <use x=\"319.970703\" xlink:href=\"#DejaVuSans-51\"/>\n       <use x=\"383.59375\" xlink:href=\"#DejaVuSans-48\"/>\n      </g>\n     </g>\n    </g>\n    <g id=\"ytick_6\">\n     <g id=\"line2d_11\">\n      <g>\n       <use style=\"stroke:#000000;stroke-width:0.8;\" x=\"58.921875\" xlink:href=\"#m40da5bb206\" y=\"112.407768\"/>\n      </g>\n     </g>\n     <g id=\"text_11\">\n      <!-- 30 12:00 -->\n      <g transform=\"translate(7.2 116.206987)scale(0.1 -0.1)\">\n       <use xlink:href=\"#DejaVuSans-51\"/>\n       <use x=\"63.623047\" xlink:href=\"#DejaVuSans-48\"/>\n       <use x=\"127.246094\" xlink:href=\"#DejaVuSans-32\"/>\n       <use x=\"159.033203\" xlink:href=\"#DejaVuSans-49\"/>\n       <use x=\"222.65625\" xlink:href=\"#DejaVuSans-50\"/>\n       <use x=\"286.279297\" xlink:href=\"#DejaVuSans-58\"/>\n       <use x=\"319.970703\" xlink:href=\"#DejaVuSans-48\"/>\n       <use x=\"383.59375\" xlink:href=\"#DejaVuSans-48\"/>\n      </g>\n     </g>\n    </g>\n    <g id=\"ytick_7\">\n     <g id=\"line2d_12\">\n      <g>\n       <use style=\"stroke:#000000;stroke-width:0.8;\" x=\"58.921875\" xlink:href=\"#m40da5bb206\" y=\"89.479011\"/>\n      </g>\n     </g>\n     <g id=\"text_12\">\n      <!-- 30 12:30 -->\n      <g transform=\"translate(7.2 93.27823)scale(0.1 -0.1)\">\n       <use xlink:href=\"#DejaVuSans-51\"/>\n       <use x=\"63.623047\" xlink:href=\"#DejaVuSans-48\"/>\n       <use x=\"127.246094\" xlink:href=\"#DejaVuSans-32\"/>\n       <use x=\"159.033203\" xlink:href=\"#DejaVuSans-49\"/>\n       <use x=\"222.65625\" xlink:href=\"#DejaVuSans-50\"/>\n       <use x=\"286.279297\" xlink:href=\"#DejaVuSans-58\"/>\n       <use x=\"319.970703\" xlink:href=\"#DejaVuSans-51\"/>\n       <use x=\"383.59375\" xlink:href=\"#DejaVuSans-48\"/>\n      </g>\n     </g>\n    </g>\n    <g id=\"ytick_8\">\n     <g id=\"line2d_13\">\n      <g>\n       <use style=\"stroke:#000000;stroke-width:0.8;\" x=\"58.921875\" xlink:href=\"#m40da5bb206\" y=\"66.550254\"/>\n      </g>\n     </g>\n     <g id=\"text_13\">\n      <!-- 30 13:00 -->\n      <g transform=\"translate(7.2 70.349472)scale(0.1 -0.1)\">\n       <use xlink:href=\"#DejaVuSans-51\"/>\n       <use x=\"63.623047\" xlink:href=\"#DejaVuSans-48\"/>\n       <use x=\"127.246094\" xlink:href=\"#DejaVuSans-32\"/>\n       <use x=\"159.033203\" xlink:href=\"#DejaVuSans-49\"/>\n       <use x=\"222.65625\" xlink:href=\"#DejaVuSans-51\"/>\n       <use x=\"286.279297\" xlink:href=\"#DejaVuSans-58\"/>\n       <use x=\"319.970703\" xlink:href=\"#DejaVuSans-48\"/>\n       <use x=\"383.59375\" xlink:href=\"#DejaVuSans-48\"/>\n      </g>\n     </g>\n    </g>\n    <g id=\"ytick_9\">\n     <g id=\"line2d_14\">\n      <g>\n       <use style=\"stroke:#000000;stroke-width:0.8;\" x=\"58.921875\" xlink:href=\"#m40da5bb206\" y=\"43.621496\"/>\n      </g>\n     </g>\n     <g id=\"text_14\">\n      <!-- 30 13:30 -->\n      <g transform=\"translate(7.2 47.420715)scale(0.1 -0.1)\">\n       <use xlink:href=\"#DejaVuSans-51\"/>\n       <use x=\"63.623047\" xlink:href=\"#DejaVuSans-48\"/>\n       <use x=\"127.246094\" xlink:href=\"#DejaVuSans-32\"/>\n       <use x=\"159.033203\" xlink:href=\"#DejaVuSans-49\"/>\n       <use x=\"222.65625\" xlink:href=\"#DejaVuSans-51\"/>\n       <use x=\"286.279297\" xlink:href=\"#DejaVuSans-58\"/>\n       <use x=\"319.970703\" xlink:href=\"#DejaVuSans-51\"/>\n       <use x=\"383.59375\" xlink:href=\"#DejaVuSans-48\"/>\n      </g>\n     </g>\n    </g>\n    <g id=\"ytick_10\">\n     <g id=\"line2d_15\">\n      <g>\n       <use style=\"stroke:#000000;stroke-width:0.8;\" x=\"58.921875\" xlink:href=\"#m40da5bb206\" y=\"20.692739\"/>\n      </g>\n     </g>\n     <g id=\"text_15\">\n      <!-- 30 14:00 -->\n      <defs>\n       <path d=\"M 37.796875 64.3125 \nL 12.890625 25.390625 \nL 37.796875 25.390625 \nz\nM 35.203125 72.90625 \nL 47.609375 72.90625 \nL 47.609375 25.390625 \nL 58.015625 25.390625 \nL 58.015625 17.1875 \nL 47.609375 17.1875 \nL 47.609375 0 \nL 37.796875 0 \nL 37.796875 17.1875 \nL 4.890625 17.1875 \nL 4.890625 26.703125 \nz\n\" id=\"DejaVuSans-52\"/>\n      </defs>\n      <g transform=\"translate(7.2 24.491958)scale(0.1 -0.1)\">\n       <use xlink:href=\"#DejaVuSans-51\"/>\n       <use x=\"63.623047\" xlink:href=\"#DejaVuSans-48\"/>\n       <use x=\"127.246094\" xlink:href=\"#DejaVuSans-32\"/>\n       <use x=\"159.033203\" xlink:href=\"#DejaVuSans-49\"/>\n       <use x=\"222.65625\" xlink:href=\"#DejaVuSans-52\"/>\n       <use x=\"286.279297\" xlink:href=\"#DejaVuSans-58\"/>\n       <use x=\"319.970703\" xlink:href=\"#DejaVuSans-48\"/>\n       <use x=\"383.59375\" xlink:href=\"#DejaVuSans-48\"/>\n      </g>\n     </g>\n    </g>\n   </g>\n   <g id=\"line2d_16\">\n    <path clip-path=\"url(#pe8371f14b5)\" d=\"M 74.140057 218.256364 \nL 106.852036 218.243205 \nL 108.274296 170.116087 \nL 140.986276 170.112457 \nL 142.408536 139.553175 \nL 173.698256 139.549239 \nL 175.120516 137.822207 \nL 197.876675 137.758465 \nL 199.298935 137.756146 \nL 200.721195 52.410382 \nL 204.987975 52.381224 \nL 206.410235 23.811865 \nL 233.433175 23.807751 \nL 234.855435 23.631722 \nL 241.966735 23.51946 \nL 243.388995 23.07468 \nL 270.411934 23.067101 \nL 271.834194 21.941859 \nL 298.857134 21.93307 \nL 300.279394 21.536543 \nL 327.302334 21.528454 \nL 328.724594 21.282161 \nL 355.747533 21.274212 \nL 357.169793 20.743883 \nL 378.503693 20.583636 \nL 378.503693 20.583636 \n\" style=\"fill:none;stroke:#1f77b4;stroke-linecap:square;stroke-width:1.5;\"/>\n   </g>\n   <g id=\"patch_3\">\n    <path d=\"M 58.921875 228.14 \nL 58.921875 10.7 \n\" style=\"fill:none;stroke:#000000;stroke-linecap:square;stroke-linejoin:miter;stroke-width:0.8;\"/>\n   </g>\n   <g id=\"patch_4\">\n    <path d=\"M 393.721875 228.14 \nL 393.721875 10.7 \n\" style=\"fill:none;stroke:#000000;stroke-linecap:square;stroke-linejoin:miter;stroke-width:0.8;\"/>\n   </g>\n   <g id=\"patch_5\">\n    <path d=\"M 58.921875 228.14 \nL 393.721875 228.14 \n\" style=\"fill:none;stroke:#000000;stroke-linecap:square;stroke-linejoin:miter;stroke-width:0.8;\"/>\n   </g>\n   <g id=\"patch_6\">\n    <path d=\"M 58.921875 10.7 \nL 393.721875 10.7 \n\" style=\"fill:none;stroke:#000000;stroke-linecap:square;stroke-linejoin:miter;stroke-width:0.8;\"/>\n   </g>\n  </g>\n </g>\n <defs>\n  <clipPath id=\"pe8371f14b5\">\n   <rect height=\"217.44\" width=\"334.8\" x=\"58.921875\" y=\"10.7\"/>\n  </clipPath>\n </defs>\n</svg>\n",
      "image/png": "[encoded data removed]"
     },
     "metadata": {
      "needs_background": "light"
     }
    }
   ],
   "source": [
    "data.created_at = pd.to_datetime(data.created_at)\n",
    "data.created_at.plot();"
   ]
  },
  {
   "cell_type": "markdown",
   "metadata": {},
   "source": [
    "### Observations -> Actions\n",
    "- zero variance in pk -> drop this variable\n",
    "- during data collection, event was simulated on multiple timepoints, therefore this kind of step lines in time plot. We will focus on only last simulation -> select records happended after 13:30 on 30-apr-21\n",
    "- client_id and cookie_id, both can be treated as user_identifier. Let's go with cookie_id -> drop client_ip\n",
    "- map cookie_id to dash_basic_auth login profiles. this action is specific to this POC's MVP (minimum viable product) requirements\n",
    "- remove view events - focus is only on click events\n",
    "- drop url\n",
    "- drop duplicates"
   ]
  },
  {
   "cell_type": "code",
   "execution_count": 7,
   "metadata": {},
   "outputs": [],
   "source": [
    "def label_encoding(df, colname):\n",
    "    le = preprocessing.LabelEncoder()\n",
    "    le.fit(df[colname])\n",
    "    le_mappings = dict(zip(le.classes_, le.transform(le.classes_)))\n",
    "    return le_mappings"
   ]
  },
  {
   "cell_type": "code",
   "execution_count": 8,
   "metadata": {},
   "outputs": [],
   "source": [
    "def preprocess(df):\n",
    "    df = df.drop_duplicates()\n",
    "    df = df[df.created_at > '2021-04-30 13:30:00']\n",
    "    umap = {x:'user'+str(i) for i,x in enumerate(data.cookie_id.unique())}\n",
    "    df = df.replace({\"cookie_id\": umap})\n",
    "    user_mapping = label_encoding(df, 'cookie_id')\n",
    "    item_mapping = label_encoding(df, 'item_id')\n",
    "    df = df[df.event_name=='click']\n",
    "    df.reset_index(drop=True, inplace=True)\n",
    "    df = df[['cookie_id','item_id','created_at']]\n",
    "    df.columns = ['userid','itemid','timestamp']\n",
    "    return df, [user_mapping,item_mapping]"
   ]
  },
  {
   "cell_type": "code",
   "execution_count": 9,
   "metadata": {},
   "outputs": [
    {
     "output_type": "execute_result",
     "data": {
      "text/plain": [
       "  userid  itemid               timestamp\n",
       "0  user0   10005 2021-04-30 13:56:09.278\n",
       "1  user0   10006 2021-04-30 13:56:10.916\n",
       "2  user0   10005 2021-04-30 13:56:12.862\n",
       "3  user0   10006 2021-04-30 13:56:13.956\n",
       "4  user0   10006 2021-04-30 13:56:16.678"
      ],
      "text/html": "<div>\n<style scoped>\n    .dataframe tbody tr th:only-of-type {\n        vertical-align: middle;\n    }\n\n    .dataframe tbody tr th {\n        vertical-align: top;\n    }\n\n    .dataframe thead th {\n        text-align: right;\n    }\n</style>\n<table border=\"1\" class=\"dataframe\">\n  <thead>\n    <tr style=\"text-align: right;\">\n      <th></th>\n      <th>userid</th>\n      <th>itemid</th>\n      <th>timestamp</th>\n    </tr>\n  </thead>\n  <tbody>\n    <tr>\n      <th>0</th>\n      <td>user0</td>\n      <td>10005</td>\n      <td>2021-04-30 13:56:09.278</td>\n    </tr>\n    <tr>\n      <th>1</th>\n      <td>user0</td>\n      <td>10006</td>\n      <td>2021-04-30 13:56:10.916</td>\n    </tr>\n    <tr>\n      <th>2</th>\n      <td>user0</td>\n      <td>10005</td>\n      <td>2021-04-30 13:56:12.862</td>\n    </tr>\n    <tr>\n      <th>3</th>\n      <td>user0</td>\n      <td>10006</td>\n      <td>2021-04-30 13:56:13.956</td>\n    </tr>\n    <tr>\n      <th>4</th>\n      <td>user0</td>\n      <td>10006</td>\n      <td>2021-04-30 13:56:16.678</td>\n    </tr>\n  </tbody>\n</table>\n</div>"
     },
     "metadata": {},
     "execution_count": 9
    }
   ],
   "source": [
    "dataw, maps = preprocess(data)\n",
    "dataw.head()"
   ]
  },
  {
   "cell_type": "code",
   "execution_count": 10,
   "metadata": {},
   "outputs": [
    {
     "output_type": "stream",
     "name": "stdout",
     "text": [
      "User Mappings: {'user0': 0, 'user1': 1}\nItem Mappings: {10000: 0, 10001: 1, 10002: 2, 10003: 3, 10004: 4, 10005: 5, 10006: 6, 10007: 7, 10008: 8, 10009: 9}\n"
     ]
    }
   ],
   "source": [
    "print('User Mappings: {}'.format(maps[0]))\n",
    "print('Item Mappings: {}'.format(maps[1]))"
   ]
  },
  {
   "cell_type": "code",
   "execution_count": 11,
   "metadata": {},
   "outputs": [
    {
     "output_type": "stream",
     "name": "stdout",
     "text": [
      "Inverse User Mappings: {0: 'user0', 1: 'user1'}\nInverse Item Mappings: {0: 10000, 1: 10001, 2: 10002, 3: 10003, 4: 10004, 5: 10005, 6: 10006, 7: 10007, 8: 10008, 9: 10009}\n"
     ]
    }
   ],
   "source": [
    "umap_inverse = {v: k for k, v in maps[0].items()}\n",
    "imap_inverse = {v: k for k, v in maps[1].items()}\n",
    "\n",
    "print('Inverse User Mappings: {}'.format(umap_inverse))\n",
    "print('Inverse Item Mappings: {}'.format(imap_inverse))"
   ]
  },
  {
   "cell_type": "code",
   "execution_count": 12,
   "metadata": {},
   "outputs": [
    {
     "output_type": "execute_result",
     "data": {
      "text/plain": [
       "   userid  itemid               timestamp\n",
       "0       0       5 2021-04-30 13:56:09.278\n",
       "1       0       6 2021-04-30 13:56:10.916\n",
       "2       0       5 2021-04-30 13:56:12.862\n",
       "3       0       6 2021-04-30 13:56:13.956\n",
       "4       0       6 2021-04-30 13:56:16.678"
      ],
      "text/html": "<div>\n<style scoped>\n    .dataframe tbody tr th:only-of-type {\n        vertical-align: middle;\n    }\n\n    .dataframe tbody tr th {\n        vertical-align: top;\n    }\n\n    .dataframe thead th {\n        text-align: right;\n    }\n</style>\n<table border=\"1\" class=\"dataframe\">\n  <thead>\n    <tr style=\"text-align: right;\">\n      <th></th>\n      <th>userid</th>\n      <th>itemid</th>\n      <th>timestamp</th>\n    </tr>\n  </thead>\n  <tbody>\n    <tr>\n      <th>0</th>\n      <td>0</td>\n      <td>5</td>\n      <td>2021-04-30 13:56:09.278</td>\n    </tr>\n    <tr>\n      <th>1</th>\n      <td>0</td>\n      <td>6</td>\n      <td>2021-04-30 13:56:10.916</td>\n    </tr>\n    <tr>\n      <th>2</th>\n      <td>0</td>\n      <td>5</td>\n      <td>2021-04-30 13:56:12.862</td>\n    </tr>\n    <tr>\n      <th>3</th>\n      <td>0</td>\n      <td>6</td>\n      <td>2021-04-30 13:56:13.956</td>\n    </tr>\n    <tr>\n      <th>4</th>\n      <td>0</td>\n      <td>6</td>\n      <td>2021-04-30 13:56:16.678</td>\n    </tr>\n  </tbody>\n</table>\n</div>"
     },
     "metadata": {},
     "execution_count": 12
    }
   ],
   "source": [
    "dataw = dataw.replace({\"userid\": maps[0], \"itemid\": maps[1]})\n",
    "dataw.head()"
   ]
  },
  {
   "cell_type": "code",
   "execution_count": 13,
   "metadata": {},
   "outputs": [],
   "source": [
    "def create_pivot(df):\n",
    "    df['count'] = 1\n",
    "    schemadf = pd.DataFrame(list(product(list(maps[0].values()), list(maps[1].values()))), columns=['userid', 'itemid'])\n",
    "    schemadf['count'] = 0\n",
    "    df = df.append(schemadf)\n",
    "    dfp = pd.pivot_table(df, values='count', index='userid',\n",
    "                   columns='itemid', aggfunc=np.sum)\n",
    "    dfp = dfp.fillna(0, downcast='infer')\n",
    "    dfp = dfp.astype('int')\n",
    "    return dfp"
   ]
  },
  {
   "cell_type": "code",
   "execution_count": 14,
   "metadata": {},
   "outputs": [],
   "source": [
    "interactions = create_pivot(dataw)"
   ]
  },
  {
   "cell_type": "code",
   "execution_count": 15,
   "metadata": {},
   "outputs": [
    {
     "output_type": "execute_result",
     "data": {
      "text/plain": [
       "<pandas.io.formats.style.Styler at 0x1242704e0>"
      ],
      "text/html": "<style  type=\"text/css\" >\n#T_01c92_row0_col0,#T_01c92_row0_col1,#T_01c92_row0_col2,#T_01c92_row0_col3,#T_01c92_row0_col4,#T_01c92_row0_col7,#T_01c92_row0_col8,#T_01c92_row0_col9,#T_01c92_row1_col2,#T_01c92_row1_col3,#T_01c92_row1_col5,#T_01c92_row1_col6,#T_01c92_row1_col7,#T_01c92_row1_col8,#T_01c92_row1_col9{\n            background-color:  #f7fcf5;\n            color:  #000000;\n        }#T_01c92_row0_col5,#T_01c92_row0_col6,#T_01c92_row1_col0,#T_01c92_row1_col1,#T_01c92_row1_col4{\n            background-color:  #c7e9c0;\n            color:  #000000;\n        }</style><table id=\"T_01c92_\" ><thead>    <tr>        <th class=\"index_name level0\" >itemid</th>        <th class=\"col_heading level0 col0\" >0</th>        <th class=\"col_heading level0 col1\" >1</th>        <th class=\"col_heading level0 col2\" >2</th>        <th class=\"col_heading level0 col3\" >3</th>        <th class=\"col_heading level0 col4\" >4</th>        <th class=\"col_heading level0 col5\" >5</th>        <th class=\"col_heading level0 col6\" >6</th>        <th class=\"col_heading level0 col7\" >7</th>        <th class=\"col_heading level0 col8\" >8</th>        <th class=\"col_heading level0 col9\" >9</th>    </tr>    <tr>        <th class=\"index_name level0\" >userid</th>        <th class=\"blank\" ></th>        <th class=\"blank\" ></th>        <th class=\"blank\" ></th>        <th class=\"blank\" ></th>        <th class=\"blank\" ></th>        <th class=\"blank\" ></th>        <th class=\"blank\" ></th>        <th class=\"blank\" ></th>        <th class=\"blank\" ></th>        <th class=\"blank\" ></th>    </tr></thead><tbody>\n                <tr>\n                        <th id=\"T_01c92_level0_row0\" class=\"row_heading level0 row0\" >0</th>\n                        <td id=\"T_01c92_row0_col0\" class=\"data row0 col0\" >0</td>\n                        <td id=\"T_01c92_row0_col1\" class=\"data row0 col1\" >0</td>\n                        <td id=\"T_01c92_row0_col2\" class=\"data row0 col2\" >0</td>\n                        <td id=\"T_01c92_row0_col3\" class=\"data row0 col3\" >0</td>\n                        <td id=\"T_01c92_row0_col4\" class=\"data row0 col4\" >0</td>\n                        <td id=\"T_01c92_row0_col5\" class=\"data row0 col5\" >3</td>\n                        <td id=\"T_01c92_row0_col6\" class=\"data row0 col6\" >3</td>\n                        <td id=\"T_01c92_row0_col7\" class=\"data row0 col7\" >0</td>\n                        <td id=\"T_01c92_row0_col8\" class=\"data row0 col8\" >0</td>\n                        <td id=\"T_01c92_row0_col9\" class=\"data row0 col9\" >0</td>\n            </tr>\n            <tr>\n                        <th id=\"T_01c92_level0_row1\" class=\"row_heading level0 row1\" >1</th>\n                        <td id=\"T_01c92_row1_col0\" class=\"data row1 col0\" >5</td>\n                        <td id=\"T_01c92_row1_col1\" class=\"data row1 col1\" >5</td>\n                        <td id=\"T_01c92_row1_col2\" class=\"data row1 col2\" >0</td>\n                        <td id=\"T_01c92_row1_col3\" class=\"data row1 col3\" >0</td>\n                        <td id=\"T_01c92_row1_col4\" class=\"data row1 col4\" >6</td>\n                        <td id=\"T_01c92_row1_col5\" class=\"data row1 col5\" >0</td>\n                        <td id=\"T_01c92_row1_col6\" class=\"data row1 col6\" >0</td>\n                        <td id=\"T_01c92_row1_col7\" class=\"data row1 col7\" >0</td>\n                        <td id=\"T_01c92_row1_col8\" class=\"data row1 col8\" >0</td>\n                        <td id=\"T_01c92_row1_col9\" class=\"data row1 col9\" >0</td>\n            </tr>\n    </tbody></table>"
     },
     "metadata": {},
     "execution_count": 15
    }
   ],
   "source": [
    "interactions.style.background_gradient(cmap='Greens',high=interactions.max().max()/2)"
   ]
  },
  {
   "cell_type": "markdown",
   "metadata": {},
   "source": [
    "https://pandas.pydata.org/pandas-docs/stable/user_guide/style.html"
   ]
  },
  {
   "cell_type": "code",
   "execution_count": 16,
   "metadata": {},
   "outputs": [],
   "source": [
    "def recommend(userid, topk=2):\n",
    "    uid = maps[0][userid]\n",
    "    _temp = interactions.iloc[uid]\n",
    "    _temp = _temp[_temp!=0]\n",
    "    _tempdf = pd.DataFrame(columns=['itemid','distance'])\n",
    "    for row in _temp.iteritems():\n",
    "        _temp1 = topk_distance(imap_inverse[row[0]])\n",
    "        _temp2 = pd.DataFrame(list(_temp1.items()), columns=['itemid','distance'])\n",
    "        _temp2['weight'] = row[1]\n",
    "        _tempdf = _tempdf.append(_temp2)\n",
    "    _tempdf = _tempdf[_tempdf['distance']!=0]\n",
    "    _tempdf['distance']+=1\n",
    "    _tempdf['score'] = np.sqrt(_tempdf['weight'])/np.log(_tempdf['distance'])\n",
    "    _tempdf = _tempdf.set_index('itemid')\n",
    "    _tempdf = _tempdf[['score']].groupby(['itemid']).mean()\n",
    "    _tempdf = _tempdf.sort_values(by='score', ascending=False)\n",
    "    return _tempdf.index.values[:topk]"
   ]
  },
  {
   "cell_type": "code",
   "execution_count": 17,
   "metadata": {},
   "outputs": [
    {
     "output_type": "execute_result",
     "data": {
      "text/plain": [
       "array(['10003', '10002'], dtype=object)"
      ]
     },
     "metadata": {},
     "execution_count": 17
    }
   ],
   "source": [
    "recommend('user1')"
   ]
  },
  {
   "cell_type": "code",
   "execution_count": 18,
   "metadata": {},
   "outputs": [],
   "source": [
    "import pickle\n",
    "import os\n",
    "\n",
    "artifact_path = 'artifacts'\n",
    "\n",
    "pickle.dump(maps[0], open(os.path.join(artifact_path,\"usermap.p\"), \"wb\"))\n",
    "pickle.dump(maps[1], open(os.path.join(artifact_path,\"itemmap.p\"), \"wb\"))\n",
    "pickle.dump(umap_inverse, open(os.path.join(artifact_path,\"usermap_inv.p\"), \"wb\"))\n",
    "pickle.dump(imap_inverse, open(os.path.join(artifact_path,\"itemmap_inv.p\"), \"wb\"))\n",
    "pickle.dump(interactions, open(os.path.join(artifact_path,\"interactions.p\"), \"wb\"))"
   ]
  },
  {
   "cell_type": "code",
   "execution_count": null,
   "metadata": {},
   "outputs": [],
   "source": []
  }
 ],
 "metadata": {
  "kernelspec": {
   "name": "python371jvsc74a57bd0e09bc63938c7c12a1d261af93fef4c49c4bc4ec4b59849b02ca92b0abe12c74c",
   "display_name": "Python 3.7.1 64-bit ('env': conda)"
  },
  "language_info": {
   "codemirror_mode": {
    "name": "ipython",
    "version": 3
   },
   "file_extension": ".py",
   "mimetype": "text/x-python",
   "name": "python",
   "nbconvert_exporter": "python",
   "pygments_lexer": "ipython3",
   "version": "3.7.1"
  }
 },
 "nbformat": 4,
 "nbformat_minor": 4
}