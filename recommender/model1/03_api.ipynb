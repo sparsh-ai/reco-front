{
 "cells": [
  {
   "cell_type": "code",
   "execution_count": 1,
   "id": "2367466d-ce6b-49f7-9acc-28edc54111e6",
   "metadata": {},
   "outputs": [],
   "source": [
    "import os\n",
    "import pickle\n",
    "import numpy as np\n",
    "import pandas as pd\n",
    "from itemrep_inference import topk_distance\n",
    "\n",
    "artifact_path = 'artifacts'\n",
    "\n",
    "umap = pickle.load(open(os.path.join(artifact_path,\"usermap.p\"), \"rb\"))\n",
    "imap_inverse = pickle.load(open(os.path.join(artifact_path,\"itemmap_inv.p\"), \"rb\"))\n",
    "interactions = pd.read_pickle(os.path.join(artifact_path,\"interactions.p\"))"
   ]
  },
  {
   "cell_type": "code",
   "execution_count": 2,
   "id": "4308b03e-1d4e-446c-b8e8-bc389d9fcf72",
   "metadata": {},
   "outputs": [],
   "source": [
    "def recommend(userid, topk=2):\n",
    "    uid = umap[userid]\n",
    "    _temp = interactions.iloc[uid]\n",
    "    _temp = _temp[_temp!=0]\n",
    "    _tempdf = pd.DataFrame(columns=['itemid','distance'])\n",
    "    for row in _temp.iteritems():\n",
    "        _temp1 = topk_distance(imap_inverse[row[0]])\n",
    "        _temp2 = pd.DataFrame(list(_temp1.items()), columns=['itemid','distance'])\n",
    "        _temp2['weight'] = row[1]\n",
    "        _tempdf = _tempdf.append(_temp2)\n",
    "    _tempdf = _tempdf[_tempdf['distance']!=0]\n",
    "    _tempdf['distance']+=1\n",
    "    _tempdf['score'] = np.sqrt(_tempdf['weight'])/np.log(_tempdf['distance'])\n",
    "    _tempdf = _tempdf.set_index('itemid')\n",
    "    _tempdf = _tempdf[['score']].groupby(['itemid']).mean()\n",
    "    _tempdf = _tempdf.sort_values(by='score', ascending=False)\n",
    "    return _tempdf.index.values[:topk]"
   ]
  },
  {
   "cell_type": "code",
   "execution_count": 3,
   "id": "9fc2037c-0c86-4937-96d1-ad71c22e4203",
   "metadata": {},
   "outputs": [
    {
     "data": {
      "text/plain": [
       "array(['10003', '10002'], dtype=object)"
      ]
     },
     "execution_count": 3,
     "metadata": {},
     "output_type": "execute_result"
    }
   ],
   "source": [
    "recommend('user1')"
   ]
  },
  {
   "cell_type": "code",
   "execution_count": 11,
   "id": "49aa6ec4-e392-47e2-8352-8853f42a4738",
   "metadata": {},
   "outputs": [],
   "source": [
    "from fastapi import FastAPI\n",
    "from typing import Optional\n",
    "\n",
    "app = FastAPI()\n",
    "\n",
    "@app.get(\"/\")\n",
    "async def read_root():\n",
    "    return {\"Hello\": \"World\"}\n",
    "\n",
    "@app.get(\"/items/{item_id}\")\n",
    "async def read_item(item_id: int, q: Optional[str] = None):\n",
    "    return {\"item_id\": item_id, \"q\": q}"
   ]
  },
  {
   "cell_type": "code",
   "execution_count": null,
   "id": "ff72b403-ff4c-474e-9fe3-9aecb9b40264",
   "metadata": {},
   "outputs": [],
   "source": [
    "from fastapi import FastAPI\n",
    "from typing import Optional\n",
    "\n",
    "app = FastAPI()\n",
    "\n",
    "@app.get(\"/recommend/{userid}\")\n",
    "async def read_item(userid: str):\n",
    "    recs = json.dumps(recommend(userid).tolist())\n",
    "    return recs"
   ]
  }
 ],
 "metadata": {
  "kernelspec": {
   "display_name": "Python 3",
   "language": "python",
   "name": "python3"
  },
  "language_info": {
   "codemirror_mode": {
    "name": "ipython",
    "version": 3
   },
   "file_extension": ".py",
   "mimetype": "text/x-python",
   "name": "python",
   "nbconvert_exporter": "python",
   "pygments_lexer": "ipython3",
   "version": "3.8.5"
  }
 },
 "nbformat": 4,
 "nbformat_minor": 5
}
